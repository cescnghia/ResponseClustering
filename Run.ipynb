{
 "cells": [
  {
   "cell_type": "code",
   "execution_count": 1,
   "metadata": {
    "collapsed": true
   },
   "outputs": [],
   "source": [
    "import warnings\n",
    "warnings.filterwarnings('ignore')\n",
    "import pandas as pd\n",
    "import numpy as np\n",
    "import gensim\n",
    "import time"
   ]
  },
  {
   "cell_type": "code",
   "execution_count": 2,
   "metadata": {
    "collapsed": false
   },
   "outputs": [
    {
     "name": "stdout",
     "output_type": "stream",
     "text": [
      "It took 10.308522752920787 mins to load 2 pretrained models\n"
     ]
    }
   ],
   "source": [
    "\"Load pre-train model\"\n",
    "\n",
    "now = time.time()\n",
    "\"\"\"\n",
    "    Download word2vec pre-trained model at : \"https://code.google.com/archive/p/word2vec/\"\n",
    "\"\"\"\n",
    "\n",
    "#word2vec_path = \"/Users/Cescnghia/Documents/dataset/GoogleNews-vectors-negative300.bin.gz\"\n",
    "#word2vec = gensim.models.KeyedVectors.load_word2vec_format(word2vec_path, binary=True)\n",
    "\n",
    "\"Download pre-trained model at https://fasttext.cc/docs/en/crawl-vectors.html\"\n",
    "\n",
    "fasttext = gensim.models.KeyedVectors.load_word2vec_format(\"/Users/Cescnghia/Documents/dataset/wiki.en/wiki.en.vec\")\n",
    "\n",
    "print('It took {s} mins to load 2 pretrained models'.format(s=(time.time()-now)/60))"
   ]
  },
  {
   "cell_type": "markdown",
   "metadata": {},
   "source": [
    "# 1  Dashboard"
   ]
  },
  {
   "cell_type": "code",
   "execution_count": 3,
   "metadata": {
    "collapsed": true
   },
   "outputs": [],
   "source": [
    "from dashboard import get_dashboard, update_dashboard, zoom_cluster"
   ]
  },
  {
   "cell_type": "code",
   "execution_count": 4,
   "metadata": {
    "collapsed": true
   },
   "outputs": [],
   "source": [
    "PATH_TO_DATA           = \"data/ref_w1q1.csv\"\n",
    "PATH_TO_NEW_DATA       = \"data/new_data.csv\"\n",
    "PATH_TO_STOPWORD       = \"data/english_most_frequency.csv\"\n",
    "PATH_TO_PROCESSED_TEXT = \"data/processed_data.csv\"\n",
    "PATH_TO_DASHBOARD_A    = \"data/dashboard_a.csv\"\n",
    "PATH_TO_DASHBOARD_B    = \"data/dashboard_b.csv\"\n",
    "PATH_TO_REPLACEMENT    = \"data/replacement.csv\"\n",
    "PATH_ZOOM_CLUSTER      = \"data/zoom_cluster.csv\"\n",
    "\n",
    "THRESHOLD_REPLACEMENT = 0.7\n",
    "THRESHOLD_TAKEOUT = 50\n",
    "NB_CLUSTER = 40\n",
    "SEED = 9016891\n",
    "TEXT_FIELD = \"text\""
   ]
  },
  {
   "cell_type": "code",
   "execution_count": 5,
   "metadata": {
    "collapsed": false
   },
   "outputs": [
    {
     "name": "stdout",
     "output_type": "stream",
     "text": [
      "Begin preprocessing stage\n",
      "Begin embedding stage\n",
      "Begin words replacement stage\n",
      "***  Before the replacement, we have 484 words\n",
      "***  After the replacement, we have 446 words\n",
      "Begin remove most frequency stage\n",
      "***  We removed 4 most frequency words\n",
      "Begin clustering stage\n",
      "Begin visualization stage\n",
      "Finish\n",
      "--------------------------------------\n",
      "It took 1.4669286489486695 mins to load 2 pretrained models\n"
     ]
    }
   ],
   "source": [
    "now = time.time()\n",
    "\n",
    "PATHS_1 = [PATH_TO_DATA,\n",
    "           PATH_TO_STOPWORD,\n",
    "           PATH_TO_PROCESSED_TEXT,\n",
    "           PATH_TO_REPLACEMENT,\n",
    "           PATH_TO_DASHBOARD_A,\n",
    "           PATH_TO_DASHBOARD_B]\n",
    "\n",
    "get_dashboard(PATHS_1, TEXT_FIELD, fasttext, NB_CLUSTER, THRESHOLD_REPLACEMENT, THRESHOLD_TAKEOUT, SEED)\n",
    "\n",
    "print('It took {s} mins to load 2 pretrained models'.format(s=(time.time()-now)/60))"
   ]
  },
  {
   "cell_type": "code",
   "execution_count": 6,
   "metadata": {
    "collapsed": false
   },
   "outputs": [
    {
     "data": {
      "text/html": [
       "<div>\n",
       "<style scoped>\n",
       "    .dataframe tbody tr th:only-of-type {\n",
       "        vertical-align: middle;\n",
       "    }\n",
       "\n",
       "    .dataframe tbody tr th {\n",
       "        vertical-align: top;\n",
       "    }\n",
       "\n",
       "    .dataframe thead th {\n",
       "        text-align: right;\n",
       "    }\n",
       "</style>\n",
       "<table border=\"1\" class=\"dataframe\">\n",
       "  <thead>\n",
       "    <tr style=\"text-align: right;\">\n",
       "      <th></th>\n",
       "      <th>text</th>\n",
       "      <th>standardized_text</th>\n",
       "      <th>processed_text</th>\n",
       "    </tr>\n",
       "  </thead>\n",
       "  <tbody>\n",
       "    <tr>\n",
       "      <th>0</th>\n",
       "      <td>The WISE simulations allowed the students to c...</td>\n",
       "      <td>the wise simulations allowed the students to c...</td>\n",
       "      <td>wise simulation allow student conceptualize ab...</td>\n",
       "    </tr>\n",
       "    <tr>\n",
       "      <th>1</th>\n",
       "      <td>The most effective aspects in wise activity we...</td>\n",
       "      <td>the most effective aspects in wise activity we...</td>\n",
       "      <td>effective aspect wise activity create spirit t...</td>\n",
       "    </tr>\n",
       "    <tr>\n",
       "      <th>2</th>\n",
       "      <td>WISE uses predict-observe-explain patterns wit...</td>\n",
       "      <td>wise uses predict observe explain patterns wit...</td>\n",
       "      <td>wise use predict observe explain pattern promp...</td>\n",
       "    </tr>\n",
       "  </tbody>\n",
       "</table>\n",
       "</div>"
      ],
      "text/plain": [
       "                                                text  \\\n",
       "0  The WISE simulations allowed the students to c...   \n",
       "1  The most effective aspects in wise activity we...   \n",
       "2  WISE uses predict-observe-explain patterns wit...   \n",
       "\n",
       "                                   standardized_text  \\\n",
       "0  the wise simulations allowed the students to c...   \n",
       "1  the most effective aspects in wise activity we...   \n",
       "2  wise uses predict observe explain patterns wit...   \n",
       "\n",
       "                                      processed_text  \n",
       "0  wise simulation allow student conceptualize ab...  \n",
       "1  effective aspect wise activity create spirit t...  \n",
       "2  wise use predict observe explain pattern promp...  "
      ]
     },
     "execution_count": 6,
     "metadata": {},
     "output_type": "execute_result"
    }
   ],
   "source": [
    "pd.read_csv(PATH_TO_PROCESSED_TEXT).head(3)"
   ]
  },
  {
   "cell_type": "code",
   "execution_count": 7,
   "metadata": {
    "collapsed": false
   },
   "outputs": [
    {
     "data": {
      "text/html": [
       "<div>\n",
       "<style scoped>\n",
       "    .dataframe tbody tr th:only-of-type {\n",
       "        vertical-align: middle;\n",
       "    }\n",
       "\n",
       "    .dataframe tbody tr th {\n",
       "        vertical-align: top;\n",
       "    }\n",
       "\n",
       "    .dataframe thead th {\n",
       "        text-align: right;\n",
       "    }\n",
       "</style>\n",
       "<table border=\"1\" class=\"dataframe\">\n",
       "  <thead>\n",
       "    <tr style=\"text-align: right;\">\n",
       "      <th></th>\n",
       "      <th>processed_text</th>\n",
       "      <th>count</th>\n",
       "      <th>pos</th>\n",
       "      <th>vect</th>\n",
       "      <th>x</th>\n",
       "      <th>y</th>\n",
       "      <th>cluster</th>\n",
       "      <th>cluster_center</th>\n",
       "      <th>distance_to_center</th>\n",
       "      <th>representative_cluster</th>\n",
       "      <th>wordnet</th>\n",
       "    </tr>\n",
       "  </thead>\n",
       "  <tbody>\n",
       "    <tr>\n",
       "      <th>0</th>\n",
       "      <td>ability</td>\n",
       "      <td>2</td>\n",
       "      <td>n</td>\n",
       "      <td>[-0.098041    0.1796     -0.57259     0.073026...</td>\n",
       "      <td>0.384583</td>\n",
       "      <td>-0.813177</td>\n",
       "      <td>35</td>\n",
       "      <td>[ 0.50281178 -0.81068582]</td>\n",
       "      <td>0.013984</td>\n",
       "      <td>False</td>\n",
       "      <td>quality</td>\n",
       "    </tr>\n",
       "    <tr>\n",
       "      <th>1</th>\n",
       "      <td>abundance</td>\n",
       "      <td>1</td>\n",
       "      <td>n</td>\n",
       "      <td>[-0.26207    0.1481    -0.046696   0.45521    ...</td>\n",
       "      <td>0.279261</td>\n",
       "      <td>0.054884</td>\n",
       "      <td>10</td>\n",
       "      <td>[0.33002098 0.08153227]</td>\n",
       "      <td>0.003287</td>\n",
       "      <td>False</td>\n",
       "      <td>amount</td>\n",
       "    </tr>\n",
       "    <tr>\n",
       "      <th>2</th>\n",
       "      <td>accessibility</td>\n",
       "      <td>1</td>\n",
       "      <td>n</td>\n",
       "      <td>[-6.4332e-03  1.6794e-01  1.8712e-01  2.8707e-...</td>\n",
       "      <td>0.731958</td>\n",
       "      <td>-0.801414</td>\n",
       "      <td>35</td>\n",
       "      <td>[ 0.50281178 -0.81068582]</td>\n",
       "      <td>0.052594</td>\n",
       "      <td>False</td>\n",
       "      <td>quality</td>\n",
       "    </tr>\n",
       "    <tr>\n",
       "      <th>3</th>\n",
       "      <td>accord</td>\n",
       "      <td>8</td>\n",
       "      <td>v</td>\n",
       "      <td>[-9.8114e-02 -2.4023e-01  1.5353e-01  3.1165e-...</td>\n",
       "      <td>-0.752645</td>\n",
       "      <td>-0.170012</td>\n",
       "      <td>15</td>\n",
       "      <td>[-0.72407505 -0.29008357]</td>\n",
       "      <td>0.015233</td>\n",
       "      <td>False</td>\n",
       "      <td>equal</td>\n",
       "    </tr>\n",
       "    <tr>\n",
       "      <th>4</th>\n",
       "      <td>accordance</td>\n",
       "      <td>1</td>\n",
       "      <td>n</td>\n",
       "      <td>[-0.33463   -0.25204    0.023466   0.20383   -...</td>\n",
       "      <td>-0.245763</td>\n",
       "      <td>-0.552613</td>\n",
       "      <td>17</td>\n",
       "      <td>[-0.31824479 -0.68376022]</td>\n",
       "      <td>0.022453</td>\n",
       "      <td>False</td>\n",
       "      <td>speech_act</td>\n",
       "    </tr>\n",
       "    <tr>\n",
       "      <th>5</th>\n",
       "      <td>activitie</td>\n",
       "      <td>1</td>\n",
       "      <td>n</td>\n",
       "      <td>[-0.071888  -0.052625  -0.32589   -0.17648   -...</td>\n",
       "      <td>-0.251709</td>\n",
       "      <td>0.522422</td>\n",
       "      <td>2</td>\n",
       "      <td>[-0.20957578  0.66058297]</td>\n",
       "      <td>0.020864</td>\n",
       "      <td>False</td>\n",
       "      <td>communication</td>\n",
       "    </tr>\n",
       "    <tr>\n",
       "      <th>6</th>\n",
       "      <td>acute</td>\n",
       "      <td>1</td>\n",
       "      <td>n</td>\n",
       "      <td>[ 4.4446e-01 -1.0784e-01 -8.9487e-01  2.3077e-...</td>\n",
       "      <td>1.112280</td>\n",
       "      <td>0.562541</td>\n",
       "      <td>0</td>\n",
       "      <td>[0.82828111 0.55739572]</td>\n",
       "      <td>0.080682</td>\n",
       "      <td>False</td>\n",
       "      <td>diacritical_mark</td>\n",
       "    </tr>\n",
       "  </tbody>\n",
       "</table>\n",
       "</div>"
      ],
      "text/plain": [
       "  processed_text  count pos  \\\n",
       "0        ability      2   n   \n",
       "1      abundance      1   n   \n",
       "2  accessibility      1   n   \n",
       "3         accord      8   v   \n",
       "4     accordance      1   n   \n",
       "5      activitie      1   n   \n",
       "6          acute      1   n   \n",
       "\n",
       "                                                vect         x         y  \\\n",
       "0  [-0.098041    0.1796     -0.57259     0.073026...  0.384583 -0.813177   \n",
       "1  [-0.26207    0.1481    -0.046696   0.45521    ...  0.279261  0.054884   \n",
       "2  [-6.4332e-03  1.6794e-01  1.8712e-01  2.8707e-...  0.731958 -0.801414   \n",
       "3  [-9.8114e-02 -2.4023e-01  1.5353e-01  3.1165e-... -0.752645 -0.170012   \n",
       "4  [-0.33463   -0.25204    0.023466   0.20383   -... -0.245763 -0.552613   \n",
       "5  [-0.071888  -0.052625  -0.32589   -0.17648   -... -0.251709  0.522422   \n",
       "6  [ 4.4446e-01 -1.0784e-01 -8.9487e-01  2.3077e-...  1.112280  0.562541   \n",
       "\n",
       "   cluster             cluster_center  distance_to_center  \\\n",
       "0       35  [ 0.50281178 -0.81068582]            0.013984   \n",
       "1       10    [0.33002098 0.08153227]            0.003287   \n",
       "2       35  [ 0.50281178 -0.81068582]            0.052594   \n",
       "3       15  [-0.72407505 -0.29008357]            0.015233   \n",
       "4       17  [-0.31824479 -0.68376022]            0.022453   \n",
       "5        2  [-0.20957578  0.66058297]            0.020864   \n",
       "6        0    [0.82828111 0.55739572]            0.080682   \n",
       "\n",
       "   representative_cluster           wordnet  \n",
       "0                   False           quality  \n",
       "1                   False            amount  \n",
       "2                   False           quality  \n",
       "3                   False             equal  \n",
       "4                   False        speech_act  \n",
       "5                   False     communication  \n",
       "6                   False  diacritical_mark  "
      ]
     },
     "execution_count": 7,
     "metadata": {},
     "output_type": "execute_result"
    }
   ],
   "source": [
    "pd.read_csv(PATH_TO_DASHBOARD_B).head(7)"
   ]
  },
  {
   "cell_type": "code",
   "execution_count": 8,
   "metadata": {
    "collapsed": false
   },
   "outputs": [
    {
     "data": {
      "text/html": [
       "<div>\n",
       "<style scoped>\n",
       "    .dataframe tbody tr th:only-of-type {\n",
       "        vertical-align: middle;\n",
       "    }\n",
       "\n",
       "    .dataframe tbody tr th {\n",
       "        vertical-align: top;\n",
       "    }\n",
       "\n",
       "    .dataframe thead th {\n",
       "        text-align: right;\n",
       "    }\n",
       "</style>\n",
       "<table border=\"1\" class=\"dataframe\">\n",
       "  <thead>\n",
       "    <tr style=\"text-align: right;\">\n",
       "      <th></th>\n",
       "      <th>replaced_by</th>\n",
       "      <th>to_replace</th>\n",
       "    </tr>\n",
       "  </thead>\n",
       "  <tbody>\n",
       "    <tr>\n",
       "      <th>0</th>\n",
       "      <td>trip</td>\n",
       "      <td>['activate' 'activation']</td>\n",
       "    </tr>\n",
       "    <tr>\n",
       "      <th>1</th>\n",
       "      <td>trip</td>\n",
       "      <td>['activate' 'activation']</td>\n",
       "    </tr>\n",
       "    <tr>\n",
       "      <th>2</th>\n",
       "      <td>enables</td>\n",
       "      <td>['allows' 'enables']</td>\n",
       "    </tr>\n",
       "  </tbody>\n",
       "</table>\n",
       "</div>"
      ],
      "text/plain": [
       "  replaced_by                 to_replace\n",
       "0        trip  ['activate' 'activation']\n",
       "1        trip  ['activate' 'activation']\n",
       "2     enables       ['allows' 'enables']"
      ]
     },
     "execution_count": 8,
     "metadata": {},
     "output_type": "execute_result"
    }
   ],
   "source": [
    "pd.read_csv(PATH_TO_REPLACEMENT).head(3)"
   ]
  },
  {
   "cell_type": "code",
   "execution_count": null,
   "metadata": {
    "collapsed": true
   },
   "outputs": [],
   "source": []
  },
  {
   "cell_type": "code",
   "execution_count": 9,
   "metadata": {
    "collapsed": false
   },
   "outputs": [
    {
     "name": "stdout",
     "output_type": "stream",
     "text": [
      "Begin preprocessing stage\n",
      "Begin global stopwords removing stage\n",
      "Begin concatenate old and new data then groupby stage\n",
      "Begin embedding stage\n",
      "Begin words replacement stage\n",
      "***  Before the replacement, we have 447 words\n",
      "***  After the replacement, we have 445 words\n",
      "Begin remove local most frequency stage\n",
      "***  We removed 4 most frequency words\n",
      "Begin clustering stage\n",
      "Begin find concept stage\n",
      "It took 1.4253636360168458 mins to load 2 pretrained models\n"
     ]
    }
   ],
   "source": [
    "now = time.time()\n",
    "\n",
    "PATHS_2 = [PATH_TO_NEW_DATA,\n",
    "           PATH_TO_PROCESSED_TEXT ,\n",
    "           PATH_TO_DASHBOARD_A ,\n",
    "           PATH_TO_DASHBOARD_B ,\n",
    "           PATH_TO_REPLACEMENT ,\n",
    "           PATH_TO_STOPWORD]\n",
    "\n",
    "update_dashboard(PATHS_2, TEXT_FIELD, fasttext, NB_CLUSTER, THRESHOLD_REPLACEMENT, THRESHOLD_TAKEOUT, SEED)\n",
    "\n",
    "print('It took {s} mins to load 2 pretrained models'.format(s=(time.time()-now)/60))"
   ]
  },
  {
   "cell_type": "code",
   "execution_count": 10,
   "metadata": {
    "collapsed": false
   },
   "outputs": [
    {
     "data": {
      "text/html": [
       "<div>\n",
       "<style scoped>\n",
       "    .dataframe tbody tr th:only-of-type {\n",
       "        vertical-align: middle;\n",
       "    }\n",
       "\n",
       "    .dataframe tbody tr th {\n",
       "        vertical-align: top;\n",
       "    }\n",
       "\n",
       "    .dataframe thead th {\n",
       "        text-align: right;\n",
       "    }\n",
       "</style>\n",
       "<table border=\"1\" class=\"dataframe\">\n",
       "  <thead>\n",
       "    <tr style=\"text-align: right;\">\n",
       "      <th></th>\n",
       "      <th>text</th>\n",
       "      <th>standardized_text</th>\n",
       "      <th>processed_text</th>\n",
       "    </tr>\n",
       "  </thead>\n",
       "  <tbody>\n",
       "    <tr>\n",
       "      <th>0</th>\n",
       "      <td>The WISE simulations allowed the students to c...</td>\n",
       "      <td>the wise simulations allowed the students to c...</td>\n",
       "      <td>wise simulation allow student conceptualize ab...</td>\n",
       "    </tr>\n",
       "    <tr>\n",
       "      <th>1</th>\n",
       "      <td>The most effective aspects in wise activity we...</td>\n",
       "      <td>the most effective aspects in wise activity we...</td>\n",
       "      <td>effective aspect wise activity create spirit t...</td>\n",
       "    </tr>\n",
       "    <tr>\n",
       "      <th>2</th>\n",
       "      <td>WISE uses predict-observe-explain patterns wit...</td>\n",
       "      <td>wise uses predict observe explain patterns wit...</td>\n",
       "      <td>wise use predict observe explain pattern promp...</td>\n",
       "    </tr>\n",
       "  </tbody>\n",
       "</table>\n",
       "</div>"
      ],
      "text/plain": [
       "                                                text  \\\n",
       "0  The WISE simulations allowed the students to c...   \n",
       "1  The most effective aspects in wise activity we...   \n",
       "2  WISE uses predict-observe-explain patterns wit...   \n",
       "\n",
       "                                   standardized_text  \\\n",
       "0  the wise simulations allowed the students to c...   \n",
       "1  the most effective aspects in wise activity we...   \n",
       "2  wise uses predict observe explain patterns wit...   \n",
       "\n",
       "                                      processed_text  \n",
       "0  wise simulation allow student conceptualize ab...  \n",
       "1  effective aspect wise activity create spirit t...  \n",
       "2  wise use predict observe explain pattern promp...  "
      ]
     },
     "execution_count": 10,
     "metadata": {},
     "output_type": "execute_result"
    }
   ],
   "source": [
    "pd.read_csv(PATH_TO_PROCESSED_TEXT).head(3)"
   ]
  },
  {
   "cell_type": "code",
   "execution_count": 11,
   "metadata": {
    "collapsed": false
   },
   "outputs": [
    {
     "data": {
      "text/html": [
       "<div>\n",
       "<style scoped>\n",
       "    .dataframe tbody tr th:only-of-type {\n",
       "        vertical-align: middle;\n",
       "    }\n",
       "\n",
       "    .dataframe tbody tr th {\n",
       "        vertical-align: top;\n",
       "    }\n",
       "\n",
       "    .dataframe thead th {\n",
       "        text-align: right;\n",
       "    }\n",
       "</style>\n",
       "<table border=\"1\" class=\"dataframe\">\n",
       "  <thead>\n",
       "    <tr style=\"text-align: right;\">\n",
       "      <th></th>\n",
       "      <th>processed_text</th>\n",
       "      <th>count</th>\n",
       "      <th>pos</th>\n",
       "      <th>vect</th>\n",
       "      <th>x</th>\n",
       "      <th>y</th>\n",
       "      <th>cluster</th>\n",
       "      <th>cluster_center</th>\n",
       "      <th>distance_to_center</th>\n",
       "      <th>representative_cluster</th>\n",
       "      <th>wordnet</th>\n",
       "    </tr>\n",
       "  </thead>\n",
       "  <tbody>\n",
       "  </tbody>\n",
       "</table>\n",
       "</div>"
      ],
      "text/plain": [
       "Empty DataFrame\n",
       "Columns: [processed_text, count, pos, vect, x, y, cluster, cluster_center, distance_to_center, representative_cluster, wordnet]\n",
       "Index: []"
      ]
     },
     "execution_count": 11,
     "metadata": {},
     "output_type": "execute_result"
    }
   ],
   "source": [
    "normalised_df = pd.read_csv(PATH_TO_DASHBOARD_B).head(7)\n",
    "normalised_df[normalised_df['cluster']==7]"
   ]
  },
  {
   "cell_type": "code",
   "execution_count": 12,
   "metadata": {
    "collapsed": false
   },
   "outputs": [
    {
     "data": {
      "text/html": [
       "<div>\n",
       "<style scoped>\n",
       "    .dataframe tbody tr th:only-of-type {\n",
       "        vertical-align: middle;\n",
       "    }\n",
       "\n",
       "    .dataframe tbody tr th {\n",
       "        vertical-align: top;\n",
       "    }\n",
       "\n",
       "    .dataframe thead th {\n",
       "        text-align: right;\n",
       "    }\n",
       "</style>\n",
       "<table border=\"1\" class=\"dataframe\">\n",
       "  <thead>\n",
       "    <tr style=\"text-align: right;\">\n",
       "      <th></th>\n",
       "      <th>replaced_by</th>\n",
       "      <th>to_replace</th>\n",
       "    </tr>\n",
       "  </thead>\n",
       "  <tbody>\n",
       "    <tr>\n",
       "      <th>0</th>\n",
       "      <td>antibiotic</td>\n",
       "      <td>['amoxicillin' 'antibiotic']</td>\n",
       "    </tr>\n",
       "    <tr>\n",
       "      <th>1</th>\n",
       "      <td>antibiotic</td>\n",
       "      <td>['amoxicillin' 'antibiotic']</td>\n",
       "    </tr>\n",
       "    <tr>\n",
       "      <th>2</th>\n",
       "      <td>gain</td>\n",
       "      <td>['realise' 'understand']</td>\n",
       "    </tr>\n",
       "  </tbody>\n",
       "</table>\n",
       "</div>"
      ],
      "text/plain": [
       "  replaced_by                    to_replace\n",
       "0  antibiotic  ['amoxicillin' 'antibiotic']\n",
       "1  antibiotic  ['amoxicillin' 'antibiotic']\n",
       "2        gain      ['realise' 'understand']"
      ]
     },
     "execution_count": 12,
     "metadata": {},
     "output_type": "execute_result"
    }
   ],
   "source": [
    "pd.read_csv(PATH_TO_REPLACEMENT).head(3)"
   ]
  },
  {
   "cell_type": "code",
   "execution_count": 13,
   "metadata": {
    "collapsed": true
   },
   "outputs": [],
   "source": [
    "zoom_cluster(PATH_TO_DASHBOARD_B, 7, PATH_ZOOM_CLUSTER)"
   ]
  },
  {
   "cell_type": "code",
   "execution_count": null,
   "metadata": {
    "collapsed": true
   },
   "outputs": [],
   "source": []
  },
  {
   "cell_type": "code",
   "execution_count": null,
   "metadata": {
    "collapsed": true
   },
   "outputs": [],
   "source": []
  },
  {
   "cell_type": "code",
   "execution_count": null,
   "metadata": {
    "collapsed": true
   },
   "outputs": [],
   "source": []
  },
  {
   "cell_type": "code",
   "execution_count": null,
   "metadata": {
    "collapsed": true
   },
   "outputs": [],
   "source": []
  },
  {
   "cell_type": "code",
   "execution_count": null,
   "metadata": {
    "collapsed": true
   },
   "outputs": [],
   "source": []
  },
  {
   "cell_type": "code",
   "execution_count": null,
   "metadata": {
    "collapsed": true
   },
   "outputs": [],
   "source": []
  },
  {
   "cell_type": "code",
   "execution_count": null,
   "metadata": {
    "collapsed": true
   },
   "outputs": [],
   "source": []
  },
  {
   "cell_type": "markdown",
   "metadata": {},
   "source": [
    "# 2 matching against teacher’s concepts"
   ]
  },
  {
   "cell_type": "code",
   "execution_count": 14,
   "metadata": {
    "collapsed": false
   },
   "outputs": [],
   "source": [
    "from lsa import check_responses"
   ]
  },
  {
   "cell_type": "markdown",
   "metadata": {},
   "source": [
    "### 2.1 Reflection dataset (english)"
   ]
  },
  {
   "cell_type": "code",
   "execution_count": 15,
   "metadata": {
    "collapsed": true
   },
   "outputs": [],
   "source": [
    "PROF_EXPECTATION = \"experiment melt chocolate\"\n",
    "PROF_EXPECTATION += \" \"\n",
    "PATH_TO_DATA    = \"data/ref_w1q1.csv\"\n",
    "LATENT_SPACE = 60"
   ]
  },
  {
   "cell_type": "code",
   "execution_count": 16,
   "metadata": {
    "collapsed": false
   },
   "outputs": [
    {
     "data": {
      "text/html": [
       "<div>\n",
       "<style scoped>\n",
       "    .dataframe tbody tr th:only-of-type {\n",
       "        vertical-align: middle;\n",
       "    }\n",
       "\n",
       "    .dataframe tbody tr th {\n",
       "        vertical-align: top;\n",
       "    }\n",
       "\n",
       "    .dataframe thead th {\n",
       "        text-align: right;\n",
       "    }\n",
       "</style>\n",
       "<table border=\"1\" class=\"dataframe\">\n",
       "  <thead>\n",
       "    <tr style=\"text-align: right;\">\n",
       "      <th></th>\n",
       "      <th>text</th>\n",
       "    </tr>\n",
       "  </thead>\n",
       "  <tbody>\n",
       "    <tr>\n",
       "      <th>0</th>\n",
       "      <td>The WISE simulations allowed the students to c...</td>\n",
       "    </tr>\n",
       "    <tr>\n",
       "      <th>1</th>\n",
       "      <td>The most effective aspects in wise activity we...</td>\n",
       "    </tr>\n",
       "    <tr>\n",
       "      <th>2</th>\n",
       "      <td>WISE uses predict-observe-explain patterns wit...</td>\n",
       "    </tr>\n",
       "  </tbody>\n",
       "</table>\n",
       "</div>"
      ],
      "text/plain": [
       "                                                text\n",
       "0  The WISE simulations allowed the students to c...\n",
       "1  The most effective aspects in wise activity we...\n",
       "2  WISE uses predict-observe-explain patterns wit..."
      ]
     },
     "execution_count": 16,
     "metadata": {},
     "output_type": "execute_result"
    }
   ],
   "source": [
    "dataframe = pd.read_csv(PATH_TO_DATA)\n",
    "dataframe.head(3)"
   ]
  },
  {
   "cell_type": "code",
   "execution_count": 17,
   "metadata": {
    "collapsed": false
   },
   "outputs": [
    {
     "name": "stdout",
     "output_type": "stream",
     "text": [
      "There are 733 responses in 2040 significant terms\n"
     ]
    }
   ],
   "source": [
    "data_frame, sim_scores = check_responses(dataframe, 'text', LATENT_SPACE, PROF_EXPECTATION)"
   ]
  },
  {
   "cell_type": "code",
   "execution_count": 18,
   "metadata": {
    "collapsed": false
   },
   "outputs": [
    {
     "data": {
      "text/html": [
       "<div>\n",
       "<style scoped>\n",
       "    .dataframe tbody tr th:only-of-type {\n",
       "        vertical-align: middle;\n",
       "    }\n",
       "\n",
       "    .dataframe tbody tr th {\n",
       "        vertical-align: top;\n",
       "    }\n",
       "\n",
       "    .dataframe thead th {\n",
       "        text-align: right;\n",
       "    }\n",
       "</style>\n",
       "<table border=\"1\" class=\"dataframe\">\n",
       "  <thead>\n",
       "    <tr style=\"text-align: right;\">\n",
       "      <th></th>\n",
       "      <th>text</th>\n",
       "      <th>standardized_text</th>\n",
       "      <th>processed_text</th>\n",
       "      <th>score</th>\n",
       "    </tr>\n",
       "  </thead>\n",
       "  <tbody>\n",
       "    <tr>\n",
       "      <th>0</th>\n",
       "      <td>The WISE simulations allowed the students to c...</td>\n",
       "      <td>the wise simulations allowed the students to c...</td>\n",
       "      <td>wise simulation allow student conceptualize ab...</td>\n",
       "      <td>0.195090</td>\n",
       "    </tr>\n",
       "    <tr>\n",
       "      <th>1</th>\n",
       "      <td>The most effective aspects in wise activity we...</td>\n",
       "      <td>the most effective aspects in wise activity we...</td>\n",
       "      <td>effective aspect wise activity create spirit t...</td>\n",
       "      <td>-0.174336</td>\n",
       "    </tr>\n",
       "    <tr>\n",
       "      <th>2</th>\n",
       "      <td>WISE uses predict-observe-explain patterns wit...</td>\n",
       "      <td>wise uses predict observe explain patterns wit...</td>\n",
       "      <td>wise use predict observe explain pattern promp...</td>\n",
       "      <td>0.052137</td>\n",
       "    </tr>\n",
       "    <tr>\n",
       "      <th>3</th>\n",
       "      <td>It appears that the interactive app allowed th...</td>\n",
       "      <td>it appears that the interactive app allowed th...</td>\n",
       "      <td>appear interactive app allow visualize science...</td>\n",
       "      <td>-0.122907</td>\n",
       "    </tr>\n",
       "    <tr>\n",
       "      <th>4</th>\n",
       "      <td>Students can make predictions and test them. T...</td>\n",
       "      <td>students can make predictions and test them. t...</td>\n",
       "      <td>student make prediction test work small group</td>\n",
       "      <td>0.037547</td>\n",
       "    </tr>\n",
       "  </tbody>\n",
       "</table>\n",
       "</div>"
      ],
      "text/plain": [
       "                                                text  \\\n",
       "0  The WISE simulations allowed the students to c...   \n",
       "1  The most effective aspects in wise activity we...   \n",
       "2  WISE uses predict-observe-explain patterns wit...   \n",
       "3  It appears that the interactive app allowed th...   \n",
       "4  Students can make predictions and test them. T...   \n",
       "\n",
       "                                   standardized_text  \\\n",
       "0  the wise simulations allowed the students to c...   \n",
       "1  the most effective aspects in wise activity we...   \n",
       "2  wise uses predict observe explain patterns wit...   \n",
       "3  it appears that the interactive app allowed th...   \n",
       "4  students can make predictions and test them. t...   \n",
       "\n",
       "                                      processed_text     score  \n",
       "0  wise simulation allow student conceptualize ab...  0.195090  \n",
       "1  effective aspect wise activity create spirit t... -0.174336  \n",
       "2  wise use predict observe explain pattern promp...  0.052137  \n",
       "3  appear interactive app allow visualize science... -0.122907  \n",
       "4    student make prediction test work small group    0.037547  "
      ]
     },
     "execution_count": 18,
     "metadata": {},
     "output_type": "execute_result"
    }
   ],
   "source": [
    "data_frame.head()"
   ]
  },
  {
   "cell_type": "code",
   "execution_count": 20,
   "metadata": {
    "collapsed": false
   },
   "outputs": [
    {
     "data": {
      "text/plain": [
       "array([[1.        , 0.17584918, 0.38501314, ..., 0.13001551, 0.17873182,\n",
       "        0.05850435],\n",
       "       [0.17584918, 1.        , 0.3723515 , ..., 0.09410064, 0.00336194,\n",
       "        0.1875853 ],\n",
       "       [0.38501314, 0.3723515 , 1.        , ..., 0.18109163, 0.07505404,\n",
       "        0.20159956],\n",
       "       ...,\n",
       "       [0.13001551, 0.09410064, 0.18109163, ..., 1.        , 0.0719275 ,\n",
       "        0.14894327],\n",
       "       [0.17873182, 0.00336194, 0.07505404, ..., 0.0719275 , 1.        ,\n",
       "        0.26394109],\n",
       "       [0.05850435, 0.1875853 , 0.20159956, ..., 0.14894327, 0.26394109,\n",
       "        1.        ]])"
      ]
     },
     "execution_count": 20,
     "metadata": {},
     "output_type": "execute_result"
    }
   ],
   "source": [
    "sim_scores"
   ]
  },
  {
   "cell_type": "markdown",
   "metadata": {},
   "source": [
    "### 2.2 Statistic dataset (french)"
   ]
  },
  {
   "cell_type": "code",
   "execution_count": null,
   "metadata": {
    "collapsed": true
   },
   "outputs": [],
   "source": []
  },
  {
   "cell_type": "code",
   "execution_count": 21,
   "metadata": {
    "collapsed": false
   },
   "outputs": [],
   "source": [
    "POS_JAR = \"data/stanford-postagger-full-2017-06-09/stanford-postagger-3.8.0.jar\"\n",
    "POS_MODEL = \"data/stanford-postagger-full-2017-06-09/models/french.tagger\"\n",
    "\n",
    "PROF_EXPECTATION_FRENCH = \"Il faut utiliser la loi de poisson\"\n",
    "PROF_EXPECTATION_FRENCH += \" ou poisson distribution\"\n",
    "PATH_TO_DATA    = 'data/data2.tsv'\n",
    "FRENCH_LATENT_SPACE = 20"
   ]
  },
  {
   "cell_type": "code",
   "execution_count": 22,
   "metadata": {
    "collapsed": false
   },
   "outputs": [
    {
     "data": {
      "text/html": [
       "<div>\n",
       "<style scoped>\n",
       "    .dataframe tbody tr th:only-of-type {\n",
       "        vertical-align: middle;\n",
       "    }\n",
       "\n",
       "    .dataframe tbody tr th {\n",
       "        vertical-align: top;\n",
       "    }\n",
       "\n",
       "    .dataframe thead th {\n",
       "        text-align: right;\n",
       "    }\n",
       "</style>\n",
       "<table border=\"1\" class=\"dataframe\">\n",
       "  <thead>\n",
       "    <tr style=\"text-align: right;\">\n",
       "      <th></th>\n",
       "      <th>text</th>\n",
       "    </tr>\n",
       "  </thead>\n",
       "  <tbody>\n",
       "    <tr>\n",
       "      <th>0</th>\n",
       "      <td>On compte les clients du fitness qui viennent...</td>\n",
       "    </tr>\n",
       "    <tr>\n",
       "      <th>1</th>\n",
       "      <td>- Calculer le nombre d'étudiants libre dans ce...</td>\n",
       "    </tr>\n",
       "    <tr>\n",
       "      <th>2</th>\n",
       "      <td>-Un compteur à l’entrée qui permet de compter ...</td>\n",
       "    </tr>\n",
       "    <tr>\n",
       "      <th>3</th>\n",
       "      <td>-placer un portique qui laisse passer 1 person...</td>\n",
       "    </tr>\n",
       "    <tr>\n",
       "      <th>4</th>\n",
       "      <td>Afin d'estimer au mieux le nombre de personne,...</td>\n",
       "    </tr>\n",
       "    <tr>\n",
       "      <th>5</th>\n",
       "      <td>Afin de compter au mieux le nombre de personne...</td>\n",
       "    </tr>\n",
       "    <tr>\n",
       "      <th>6</th>\n",
       "      <td>AfinUne porte avec une carte permettrai de com...</td>\n",
       "    </tr>\n",
       "  </tbody>\n",
       "</table>\n",
       "</div>"
      ],
      "text/plain": [
       "                                                text\n",
       "0   On compte les clients du fitness qui viennent...\n",
       "1  - Calculer le nombre d'étudiants libre dans ce...\n",
       "2  -Un compteur à l’entrée qui permet de compter ...\n",
       "3  -placer un portique qui laisse passer 1 person...\n",
       "4  Afin d'estimer au mieux le nombre de personne,...\n",
       "5  Afin de compter au mieux le nombre de personne...\n",
       "6  AfinUne porte avec une carte permettrai de com..."
      ]
     },
     "execution_count": 22,
     "metadata": {},
     "output_type": "execute_result"
    }
   ],
   "source": [
    "french = pd.read_csv(PATH_TO_DATA, header = None, sep = '\\t', encoding = \"utf-8\")\n",
    "french.columns = ['text']\n",
    "french.head(7)"
   ]
  },
  {
   "cell_type": "code",
   "execution_count": 23,
   "metadata": {
    "collapsed": false
   },
   "outputs": [
    {
     "name": "stderr",
     "output_type": "stream",
     "text": [
      "/Users/Cescnghia/Applications/anaconda/lib/python3.6/site-packages/nltk/tag/stanford.py:149: DeprecationWarning: \n",
      "The StanfordTokenizer will be deprecated in version 3.2.5.\n",
      "Please use \u001b[91mnltk.tag.corenlp.CoreNLPPOSTagger\u001b[0m or \u001b[91mnltk.tag.corenlp.CoreNLPNERTagger\u001b[0m instead.\n",
      "  super(StanfordPOSTagger, self).__init__(*args, **kwargs)\n"
     ]
    },
    {
     "name": "stdout",
     "output_type": "stream",
     "text": [
      "There are 161 responses in 633 significant terms\n"
     ]
    },
    {
     "name": "stderr",
     "output_type": "stream",
     "text": [
      "/Users/Cescnghia/Applications/anaconda/lib/python3.6/site-packages/nltk/tag/stanford.py:149: DeprecationWarning: \n",
      "The StanfordTokenizer will be deprecated in version 3.2.5.\n",
      "Please use \u001b[91mnltk.tag.corenlp.CoreNLPPOSTagger\u001b[0m or \u001b[91mnltk.tag.corenlp.CoreNLPNERTagger\u001b[0m instead.\n",
      "  super(StanfordPOSTagger, self).__init__(*args, **kwargs)\n"
     ]
    },
    {
     "name": "stdout",
     "output_type": "stream",
     "text": [
      "It took 3.228333282470703 mins to run this method\n"
     ]
    }
   ],
   "source": [
    "now = time.time()\n",
    "\n",
    "profAnswer = \"Il faut utiliser la loi de poisson\"\n",
    "profAnswer += \" ou poisson distribution\"\n",
    "\n",
    "french, french_sim_scores = check_responses(french, 'text', FRENCH_LATENT_SPACE, PROF_EXPECTATION_FRENCH, POS_JAR, POS_MODEL, english=False)\n",
    "\n",
    "print('It took {s} mins to run this method'.format(s=(time.time()-now)/60))"
   ]
  },
  {
   "cell_type": "code",
   "execution_count": 24,
   "metadata": {
    "collapsed": false
   },
   "outputs": [
    {
     "data": {
      "text/html": [
       "<div>\n",
       "<style scoped>\n",
       "    .dataframe tbody tr th:only-of-type {\n",
       "        vertical-align: middle;\n",
       "    }\n",
       "\n",
       "    .dataframe tbody tr th {\n",
       "        vertical-align: top;\n",
       "    }\n",
       "\n",
       "    .dataframe thead th {\n",
       "        text-align: right;\n",
       "    }\n",
       "</style>\n",
       "<table border=\"1\" class=\"dataframe\">\n",
       "  <thead>\n",
       "    <tr style=\"text-align: right;\">\n",
       "      <th></th>\n",
       "      <th>text</th>\n",
       "      <th>standardized_text</th>\n",
       "      <th>processed_text</th>\n",
       "      <th>score</th>\n",
       "    </tr>\n",
       "  </thead>\n",
       "  <tbody>\n",
       "    <tr>\n",
       "      <th>0</th>\n",
       "      <td>On compte les clients du fitness qui viennent...</td>\n",
       "      <td>on compte les clients du fitness qui viennent...</td>\n",
       "      <td>compter client fitness venir mardi heure an él...</td>\n",
       "      <td>-0.147433</td>\n",
       "    </tr>\n",
       "    <tr>\n",
       "      <th>1</th>\n",
       "      <td>- Calculer le nombre d'étudiants libre dans ce...</td>\n",
       "      <td>calculer le nombre d étudiants libre dans ce...</td>\n",
       "      <td>calculer nombre étudiant libre intervalle temp...</td>\n",
       "      <td>0.631594</td>\n",
       "    </tr>\n",
       "    <tr>\n",
       "      <th>2</th>\n",
       "      <td>-Un compteur à l’entrée qui permet de compter ...</td>\n",
       "      <td>un compteur à l’entrée qui permet de compter ...</td>\n",
       "      <td>compteur entrée permettre compter nombre perso...</td>\n",
       "      <td>-0.114210</td>\n",
       "    </tr>\n",
       "    <tr>\n",
       "      <th>3</th>\n",
       "      <td>-placer un portique qui laisse passer 1 person...</td>\n",
       "      <td>placer un portique qui laisse passer   person...</td>\n",
       "      <td>placer portique laisser passer fois décompte n...</td>\n",
       "      <td>-0.209604</td>\n",
       "    </tr>\n",
       "    <tr>\n",
       "      <th>4</th>\n",
       "      <td>Afin d'estimer au mieux le nombre de personne,...</td>\n",
       "      <td>afin d estimer au mieux le nombre de personne ...</td>\n",
       "      <td>estimer mieux nombre falloir obliger personne ...</td>\n",
       "      <td>-0.176237</td>\n",
       "    </tr>\n",
       "    <tr>\n",
       "      <th>5</th>\n",
       "      <td>Afin de compter au mieux le nombre de personne...</td>\n",
       "      <td>afin de compter au mieux le nombre de personne...</td>\n",
       "      <td>compter mieux nombre entrer centre sportif mar...</td>\n",
       "      <td>0.453360</td>\n",
       "    </tr>\n",
       "    <tr>\n",
       "      <th>6</th>\n",
       "      <td>AfinUne porte avec une carte permettrai de com...</td>\n",
       "      <td>afinune porte avec une carte permettrai de com...</td>\n",
       "      <td>afinune porter carte permettrai compter voir n...</td>\n",
       "      <td>0.159550</td>\n",
       "    </tr>\n",
       "  </tbody>\n",
       "</table>\n",
       "</div>"
      ],
      "text/plain": [
       "                                                text  \\\n",
       "0   On compte les clients du fitness qui viennent...   \n",
       "1  - Calculer le nombre d'étudiants libre dans ce...   \n",
       "2  -Un compteur à l’entrée qui permet de compter ...   \n",
       "3  -placer un portique qui laisse passer 1 person...   \n",
       "4  Afin d'estimer au mieux le nombre de personne,...   \n",
       "5  Afin de compter au mieux le nombre de personne...   \n",
       "6  AfinUne porte avec une carte permettrai de com...   \n",
       "\n",
       "                                   standardized_text  \\\n",
       "0   on compte les clients du fitness qui viennent...   \n",
       "1    calculer le nombre d étudiants libre dans ce...   \n",
       "2   un compteur à l’entrée qui permet de compter ...   \n",
       "3   placer un portique qui laisse passer   person...   \n",
       "4  afin d estimer au mieux le nombre de personne ...   \n",
       "5  afin de compter au mieux le nombre de personne...   \n",
       "6  afinune porte avec une carte permettrai de com...   \n",
       "\n",
       "                                      processed_text     score  \n",
       "0  compter client fitness venir mardi heure an él... -0.147433  \n",
       "1  calculer nombre étudiant libre intervalle temp...  0.631594  \n",
       "2  compteur entrée permettre compter nombre perso... -0.114210  \n",
       "3  placer portique laisser passer fois décompte n... -0.209604  \n",
       "4  estimer mieux nombre falloir obliger personne ... -0.176237  \n",
       "5  compter mieux nombre entrer centre sportif mar...  0.453360  \n",
       "6  afinune porter carte permettrai compter voir n...  0.159550  "
      ]
     },
     "execution_count": 24,
     "metadata": {},
     "output_type": "execute_result"
    }
   ],
   "source": [
    "french.head(7)"
   ]
  },
  {
   "cell_type": "code",
   "execution_count": 25,
   "metadata": {
    "collapsed": false
   },
   "outputs": [
    {
     "data": {
      "text/plain": [
       "array([[ 1.        ,  0.24928155,  0.01367228, ...,  0.47961798,\n",
       "         0.17504032, -0.11798368],\n",
       "       [ 0.24928155,  1.        ,  0.13874914, ...,  0.51291821,\n",
       "         0.00244912,  0.01026687],\n",
       "       [ 0.01367228,  0.13874914,  1.        , ...,  0.41703228,\n",
       "         0.79025541,  0.12331796],\n",
       "       ...,\n",
       "       [ 0.47961798,  0.51291821,  0.41703228, ...,  1.        ,\n",
       "         0.30469932,  0.07940658],\n",
       "       [ 0.17504032,  0.00244912,  0.79025541, ...,  0.30469932,\n",
       "         1.        , -0.01162246],\n",
       "       [-0.11798368,  0.01026687,  0.12331796, ...,  0.07940658,\n",
       "        -0.01162246,  1.        ]])"
      ]
     },
     "execution_count": 25,
     "metadata": {},
     "output_type": "execute_result"
    }
   ],
   "source": [
    "french_sim_scores"
   ]
  },
  {
   "cell_type": "code",
   "execution_count": 26,
   "metadata": {
    "collapsed": false
   },
   "outputs": [
    {
     "data": {
      "text/plain": [
       "146    3.151033\n",
       "63     3.151033\n",
       "145    3.151033\n",
       "42     3.072578\n",
       "87     2.898372\n",
       "77     2.689320\n",
       "62     2.637108\n",
       "151    2.549176\n",
       "101    2.387362\n",
       "109    1.622457\n",
       "84     1.479876\n",
       "Name: score, dtype: float64"
      ]
     },
     "execution_count": 26,
     "metadata": {},
     "output_type": "execute_result"
    }
   ],
   "source": [
    "french['score'].nlargest(11)"
   ]
  },
  {
   "cell_type": "code",
   "execution_count": 27,
   "metadata": {
    "collapsed": false
   },
   "outputs": [
    {
     "data": {
      "text/plain": [
       "'loi poisson \\\\n'"
      ]
     },
     "execution_count": 27,
     "metadata": {},
     "output_type": "execute_result"
    }
   ],
   "source": [
    "french.iloc[145]['text']"
   ]
  },
  {
   "cell_type": "markdown",
   "metadata": {
    "collapsed": true
   },
   "source": [
    "# 3 Tensorflow Hub"
   ]
  },
  {
   "cell_type": "code",
   "execution_count": 28,
   "metadata": {
    "collapsed": true
   },
   "outputs": [],
   "source": [
    "import tensorflow as tf\n",
    "import tensorflow_hub as hub\n",
    "from sklearn.metrics.pairwise import cosine_similarity"
   ]
  },
  {
   "cell_type": "code",
   "execution_count": 29,
   "metadata": {
    "collapsed": false
   },
   "outputs": [
    {
     "ename": "ParserError",
     "evalue": "Error tokenizing data. C error: Expected 1 fields in line 139, saw 2\n",
     "output_type": "error",
     "traceback": [
      "\u001b[0;31m---------------------------------------------------------------------------\u001b[0m",
      "\u001b[0;31mParserError\u001b[0m                               Traceback (most recent call last)",
      "\u001b[0;32m<ipython-input-29-0b01db11721e>\u001b[0m in \u001b[0;36m<module>\u001b[0;34m()\u001b[0m\n\u001b[0;32m----> 1\u001b[0;31m \u001b[0mdataframe\u001b[0m \u001b[0;34m=\u001b[0m \u001b[0mpd\u001b[0m\u001b[0;34m.\u001b[0m\u001b[0mread_csv\u001b[0m\u001b[0;34m(\u001b[0m\u001b[0mPATH_TO_DATA\u001b[0m\u001b[0;34m)\u001b[0m\u001b[0;34m\u001b[0m\u001b[0m\n\u001b[0m\u001b[1;32m      2\u001b[0m \u001b[0mdataframe\u001b[0m\u001b[0;34m.\u001b[0m\u001b[0mhead\u001b[0m\u001b[0;34m(\u001b[0m\u001b[0;36m3\u001b[0m\u001b[0;34m)\u001b[0m\u001b[0;34m\u001b[0m\u001b[0m\n",
      "\u001b[0;32m/Users/Cescnghia/Applications/anaconda/lib/python3.6/site-packages/pandas/io/parsers.py\u001b[0m in \u001b[0;36mparser_f\u001b[0;34m(filepath_or_buffer, sep, delimiter, header, names, index_col, usecols, squeeze, prefix, mangle_dupe_cols, dtype, engine, converters, true_values, false_values, skipinitialspace, skiprows, nrows, na_values, keep_default_na, na_filter, verbose, skip_blank_lines, parse_dates, infer_datetime_format, keep_date_col, date_parser, dayfirst, iterator, chunksize, compression, thousands, decimal, lineterminator, quotechar, quoting, escapechar, comment, encoding, dialect, tupleize_cols, error_bad_lines, warn_bad_lines, skipfooter, skip_footer, doublequote, delim_whitespace, as_recarray, compact_ints, use_unsigned, low_memory, buffer_lines, memory_map, float_precision)\u001b[0m\n\u001b[1;32m    707\u001b[0m                     skip_blank_lines=skip_blank_lines)\n\u001b[1;32m    708\u001b[0m \u001b[0;34m\u001b[0m\u001b[0m\n\u001b[0;32m--> 709\u001b[0;31m         \u001b[0;32mreturn\u001b[0m \u001b[0m_read\u001b[0m\u001b[0;34m(\u001b[0m\u001b[0mfilepath_or_buffer\u001b[0m\u001b[0;34m,\u001b[0m \u001b[0mkwds\u001b[0m\u001b[0;34m)\u001b[0m\u001b[0;34m\u001b[0m\u001b[0m\n\u001b[0m\u001b[1;32m    710\u001b[0m \u001b[0;34m\u001b[0m\u001b[0m\n\u001b[1;32m    711\u001b[0m     \u001b[0mparser_f\u001b[0m\u001b[0;34m.\u001b[0m\u001b[0m__name__\u001b[0m \u001b[0;34m=\u001b[0m \u001b[0mname\u001b[0m\u001b[0;34m\u001b[0m\u001b[0m\n",
      "\u001b[0;32m/Users/Cescnghia/Applications/anaconda/lib/python3.6/site-packages/pandas/io/parsers.py\u001b[0m in \u001b[0;36m_read\u001b[0;34m(filepath_or_buffer, kwds)\u001b[0m\n\u001b[1;32m    453\u001b[0m \u001b[0;34m\u001b[0m\u001b[0m\n\u001b[1;32m    454\u001b[0m     \u001b[0;32mtry\u001b[0m\u001b[0;34m:\u001b[0m\u001b[0;34m\u001b[0m\u001b[0m\n\u001b[0;32m--> 455\u001b[0;31m         \u001b[0mdata\u001b[0m \u001b[0;34m=\u001b[0m \u001b[0mparser\u001b[0m\u001b[0;34m.\u001b[0m\u001b[0mread\u001b[0m\u001b[0;34m(\u001b[0m\u001b[0mnrows\u001b[0m\u001b[0;34m)\u001b[0m\u001b[0;34m\u001b[0m\u001b[0m\n\u001b[0m\u001b[1;32m    456\u001b[0m     \u001b[0;32mfinally\u001b[0m\u001b[0;34m:\u001b[0m\u001b[0;34m\u001b[0m\u001b[0m\n\u001b[1;32m    457\u001b[0m         \u001b[0mparser\u001b[0m\u001b[0;34m.\u001b[0m\u001b[0mclose\u001b[0m\u001b[0;34m(\u001b[0m\u001b[0;34m)\u001b[0m\u001b[0;34m\u001b[0m\u001b[0m\n",
      "\u001b[0;32m/Users/Cescnghia/Applications/anaconda/lib/python3.6/site-packages/pandas/io/parsers.py\u001b[0m in \u001b[0;36mread\u001b[0;34m(self, nrows)\u001b[0m\n\u001b[1;32m   1067\u001b[0m                 \u001b[0;32mraise\u001b[0m \u001b[0mValueError\u001b[0m\u001b[0;34m(\u001b[0m\u001b[0;34m'skipfooter not supported for iteration'\u001b[0m\u001b[0;34m)\u001b[0m\u001b[0;34m\u001b[0m\u001b[0m\n\u001b[1;32m   1068\u001b[0m \u001b[0;34m\u001b[0m\u001b[0m\n\u001b[0;32m-> 1069\u001b[0;31m         \u001b[0mret\u001b[0m \u001b[0;34m=\u001b[0m \u001b[0mself\u001b[0m\u001b[0;34m.\u001b[0m\u001b[0m_engine\u001b[0m\u001b[0;34m.\u001b[0m\u001b[0mread\u001b[0m\u001b[0;34m(\u001b[0m\u001b[0mnrows\u001b[0m\u001b[0;34m)\u001b[0m\u001b[0;34m\u001b[0m\u001b[0m\n\u001b[0m\u001b[1;32m   1070\u001b[0m \u001b[0;34m\u001b[0m\u001b[0m\n\u001b[1;32m   1071\u001b[0m         \u001b[0;32mif\u001b[0m \u001b[0mself\u001b[0m\u001b[0;34m.\u001b[0m\u001b[0moptions\u001b[0m\u001b[0;34m.\u001b[0m\u001b[0mget\u001b[0m\u001b[0;34m(\u001b[0m\u001b[0;34m'as_recarray'\u001b[0m\u001b[0;34m)\u001b[0m\u001b[0;34m:\u001b[0m\u001b[0;34m\u001b[0m\u001b[0m\n",
      "\u001b[0;32m/Users/Cescnghia/Applications/anaconda/lib/python3.6/site-packages/pandas/io/parsers.py\u001b[0m in \u001b[0;36mread\u001b[0;34m(self, nrows)\u001b[0m\n\u001b[1;32m   1837\u001b[0m     \u001b[0;32mdef\u001b[0m \u001b[0mread\u001b[0m\u001b[0;34m(\u001b[0m\u001b[0mself\u001b[0m\u001b[0;34m,\u001b[0m \u001b[0mnrows\u001b[0m\u001b[0;34m=\u001b[0m\u001b[0;32mNone\u001b[0m\u001b[0;34m)\u001b[0m\u001b[0;34m:\u001b[0m\u001b[0;34m\u001b[0m\u001b[0m\n\u001b[1;32m   1838\u001b[0m         \u001b[0;32mtry\u001b[0m\u001b[0;34m:\u001b[0m\u001b[0;34m\u001b[0m\u001b[0m\n\u001b[0;32m-> 1839\u001b[0;31m             \u001b[0mdata\u001b[0m \u001b[0;34m=\u001b[0m \u001b[0mself\u001b[0m\u001b[0;34m.\u001b[0m\u001b[0m_reader\u001b[0m\u001b[0;34m.\u001b[0m\u001b[0mread\u001b[0m\u001b[0;34m(\u001b[0m\u001b[0mnrows\u001b[0m\u001b[0;34m)\u001b[0m\u001b[0;34m\u001b[0m\u001b[0m\n\u001b[0m\u001b[1;32m   1840\u001b[0m         \u001b[0;32mexcept\u001b[0m \u001b[0mStopIteration\u001b[0m\u001b[0;34m:\u001b[0m\u001b[0;34m\u001b[0m\u001b[0m\n\u001b[1;32m   1841\u001b[0m             \u001b[0;32mif\u001b[0m \u001b[0mself\u001b[0m\u001b[0;34m.\u001b[0m\u001b[0m_first_chunk\u001b[0m\u001b[0;34m:\u001b[0m\u001b[0;34m\u001b[0m\u001b[0m\n",
      "\u001b[0;32mpandas/_libs/parsers.pyx\u001b[0m in \u001b[0;36mpandas._libs.parsers.TextReader.read\u001b[0;34m()\u001b[0m\n",
      "\u001b[0;32mpandas/_libs/parsers.pyx\u001b[0m in \u001b[0;36mpandas._libs.parsers.TextReader._read_low_memory\u001b[0;34m()\u001b[0m\n",
      "\u001b[0;32mpandas/_libs/parsers.pyx\u001b[0m in \u001b[0;36mpandas._libs.parsers.TextReader._read_rows\u001b[0;34m()\u001b[0m\n",
      "\u001b[0;32mpandas/_libs/parsers.pyx\u001b[0m in \u001b[0;36mpandas._libs.parsers.TextReader._tokenize_rows\u001b[0;34m()\u001b[0m\n",
      "\u001b[0;32mpandas/_libs/parsers.pyx\u001b[0m in \u001b[0;36mpandas._libs.parsers.raise_parser_error\u001b[0;34m()\u001b[0m\n",
      "\u001b[0;31mParserError\u001b[0m: Error tokenizing data. C error: Expected 1 fields in line 139, saw 2\n"
     ]
    }
   ],
   "source": [
    "dataframe = pd.read_csv(PATH_TO_DATA)\n",
    "dataframe.head(3)"
   ]
  },
  {
   "cell_type": "code",
   "execution_count": null,
   "metadata": {
    "collapsed": true
   },
   "outputs": [],
   "source": [
    "def hub_sentence_embeddings(df, textfield):\n",
    "    sentences = [x for x in df[textfield]]\n",
    "    with tf.Graph().as_default():\n",
    "        embed = hub.Module(\"https://tfhub.dev/google/nnlm-en-dim128-with-normalization/1\")\n",
    "        embeddings = embed(sentences)\n",
    "        with tf.Session() as sess:\n",
    "            sess.run(tf.global_variables_initializer())\n",
    "            sess.run(tf.tables_initializer())\n",
    "\n",
    "            return sess.run(embeddings)"
   ]
  },
  {
   "cell_type": "code",
   "execution_count": null,
   "metadata": {
    "collapsed": false
   },
   "outputs": [],
   "source": [
    "embedded = hub_sentence_embeddings(dataframe, 'text')\n",
    "english_sim_scores_by_tensorhub = cosine_similarity(embedded)"
   ]
  },
  {
   "cell_type": "code",
   "execution_count": null,
   "metadata": {
    "collapsed": false
   },
   "outputs": [],
   "source": [
    "english_sim_scores_by_tensorhub"
   ]
  },
  {
   "cell_type": "code",
   "execution_count": null,
   "metadata": {
    "collapsed": true
   },
   "outputs": [],
   "source": []
  }
 ],
 "metadata": {
  "kernelspec": {
   "display_name": "Python 3",
   "language": "python",
   "name": "python3"
  },
  "language_info": {
   "codemirror_mode": {
    "name": "ipython",
    "version": 3
   },
   "file_extension": ".py",
   "mimetype": "text/x-python",
   "name": "python",
   "nbconvert_exporter": "python",
   "pygments_lexer": "ipython3",
   "version": "3.6.0"
  }
 },
 "nbformat": 4,
 "nbformat_minor": 2
}
