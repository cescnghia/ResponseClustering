{
 "cells": [
  {
   "cell_type": "code",
   "execution_count": 1,
   "metadata": {
    "collapsed": true
   },
   "outputs": [],
   "source": [
    "import warnings\n",
    "warnings.filterwarnings('ignore')\n",
    "import pandas as pd\n",
    "import numpy as np\n",
    "import gensim\n",
    "import time"
   ]
  },
  {
   "cell_type": "code",
   "execution_count": null,
   "metadata": {
    "collapsed": true
   },
   "outputs": [],
   "source": []
  },
  {
   "cell_type": "code",
   "execution_count": 2,
   "metadata": {
    "collapsed": false
   },
   "outputs": [
    {
     "name": "stdout",
     "output_type": "stream",
     "text": [
      "It took 9.616159466902415 mins to load 2 pretrained models\n"
     ]
    }
   ],
   "source": [
    "\"Load pre-train model\"\n",
    "\n",
    "now = time.time()\n",
    "\n",
    "\n",
    "\"Fasttext: download pre-trained model at https://fasttext.cc/docs/en/crawl-vectors.html\"\n",
    "\n",
    "fasttext = gensim.models.KeyedVectors.load_word2vec_format(\"/Users/Cescnghia/Documents/dataset/wiki.en/wiki.en.vec\")\n",
    "#fasttext = gensim.models.KeyedVectors.load_word2vec_format(\"data/wiki.en/wiki.en.vec\")\n",
    "\n",
    "\n",
    "\"\"\"\n",
    "    If you want to use word2vect then download this one. The default word embedding is fasttext\n",
    "    Download word2vec pre-trained model at : \"https://code.google.com/archive/p/word2vec/\"\n",
    "\"\"\"\n",
    "\n",
    "#word2vec_path = \"data/GoogleNews-vectors-negative300.bin.gz\"\n",
    "#word2vec = gensim.models.KeyedVectors.load_word2vec_format(word2vec_path, binary=True)\n",
    "\n",
    "\n",
    "print('It took {s} mins to load 2 pretrained models'.format(s=(time.time()-now)/60))"
   ]
  },
  {
   "cell_type": "markdown",
   "metadata": {},
   "source": [
    "# 1  Dashboard"
   ]
  },
  {
   "cell_type": "code",
   "execution_count": 3,
   "metadata": {
    "collapsed": true
   },
   "outputs": [],
   "source": [
    "from dashboard import get_dashboard, update_dashboard, zoom_cluster"
   ]
  },
  {
   "cell_type": "code",
   "execution_count": 7,
   "metadata": {
    "collapsed": true
   },
   "outputs": [],
   "source": [
    "PATH_TO_DATA = 'data/ref_w1q1.csv'"
   ]
  },
  {
   "cell_type": "code",
   "execution_count": 8,
   "metadata": {
    "collapsed": false
   },
   "outputs": [
    {
     "data": {
      "text/html": [
       "<div>\n",
       "<style scoped>\n",
       "    .dataframe tbody tr th:only-of-type {\n",
       "        vertical-align: middle;\n",
       "    }\n",
       "\n",
       "    .dataframe tbody tr th {\n",
       "        vertical-align: top;\n",
       "    }\n",
       "\n",
       "    .dataframe thead th {\n",
       "        text-align: right;\n",
       "    }\n",
       "</style>\n",
       "<table border=\"1\" class=\"dataframe\">\n",
       "  <thead>\n",
       "    <tr style=\"text-align: right;\">\n",
       "      <th></th>\n",
       "      <th>text</th>\n",
       "    </tr>\n",
       "  </thead>\n",
       "  <tbody>\n",
       "    <tr>\n",
       "      <th>0</th>\n",
       "      <td>The WISE simulations allowed the students to c...</td>\n",
       "    </tr>\n",
       "    <tr>\n",
       "      <th>1</th>\n",
       "      <td>The most effective aspects in wise activity we...</td>\n",
       "    </tr>\n",
       "    <tr>\n",
       "      <th>2</th>\n",
       "      <td>WISE uses predict-observe-explain patterns wit...</td>\n",
       "    </tr>\n",
       "    <tr>\n",
       "      <th>3</th>\n",
       "      <td>It appears that the interactive app allowed th...</td>\n",
       "    </tr>\n",
       "    <tr>\n",
       "      <th>4</th>\n",
       "      <td>Students can make predictions and test them. T...</td>\n",
       "    </tr>\n",
       "  </tbody>\n",
       "</table>\n",
       "</div>"
      ],
      "text/plain": [
       "                                                text\n",
       "0  The WISE simulations allowed the students to c...\n",
       "1  The most effective aspects in wise activity we...\n",
       "2  WISE uses predict-observe-explain patterns wit...\n",
       "3  It appears that the interactive app allowed th...\n",
       "4  Students can make predictions and test them. T..."
      ]
     },
     "execution_count": 8,
     "metadata": {},
     "output_type": "execute_result"
    }
   ],
   "source": [
    "dataframe = pd.read_csv(PATH_TO_DATA)\n",
    "DATA_INITIAL = dataframe[:400]['text']\n",
    "DATA_UPDATED = dataframe[400:]['text']\n",
    "dataframe.head()"
   ]
  },
  {
   "cell_type": "code",
   "execution_count": 9,
   "metadata": {
    "collapsed": true
   },
   "outputs": [],
   "source": [
    "PATH_TO_STOPWORD       = \"data/english_most_frequency.csv\"\n",
    "english_most_5000_frequency = pd.read_csv(PATH_TO_STOPWORD,sep = ',', encoding = \"ISO-8859-1\")\n",
    "STOPWORDS = [x for x in english_most_5000_frequency['Word']]\n",
    "NB_CLUSTER = 40\n",
    "THRESHOLD_REPLACEMENT = 0.7\n",
    "THRESHOLD_TAKEOUT = 50\n",
    "SEED = 9016891"
   ]
  },
  {
   "cell_type": "code",
   "execution_count": 10,
   "metadata": {
    "collapsed": false
   },
   "outputs": [
    {
     "name": "stdout",
     "output_type": "stream",
     "text": [
      "Begin preprocessing stage\n",
      "1090\n",
      "316\n",
      "Begin embedding stage\n",
      "286\n",
      "Begin words replacement stage\n",
      "***  Before the replacement, we have 286 words\n",
      "271\n",
      "***  After the replacement, we have 270 words\n",
      "Begin remove most frequency stage (within the dataset)\n",
      "Begin clustering stage\n",
      "Begin visualization stage\n",
      "Finish\n",
      "--------------------------------------\n",
      "Running time:  23.049131155014038  s\n"
     ]
    }
   ],
   "source": [
    "now = time.time()\n",
    "\n",
    "a, b, c = get_dashboard(DATA_INITIAL, \n",
    "                'text', fasttext, STOPWORDS, NB_CLUSTER, THRESHOLD_REPLACEMENT, SEED, cutoff=False, threshold_takeout=None)\n",
    "\n",
    "print('Running time: ', time.time()-now,' s')"
   ]
  },
  {
   "cell_type": "code",
   "execution_count": 12,
   "metadata": {
    "collapsed": false
   },
   "outputs": [
    {
     "data": {
      "text/html": [
       "<div>\n",
       "<style scoped>\n",
       "    .dataframe tbody tr th:only-of-type {\n",
       "        vertical-align: middle;\n",
       "    }\n",
       "\n",
       "    .dataframe tbody tr th {\n",
       "        vertical-align: top;\n",
       "    }\n",
       "\n",
       "    .dataframe thead th {\n",
       "        text-align: right;\n",
       "    }\n",
       "</style>\n",
       "<table border=\"1\" class=\"dataframe\">\n",
       "  <thead>\n",
       "    <tr style=\"text-align: right;\">\n",
       "      <th></th>\n",
       "      <th>text</th>\n",
       "      <th>standardized_text</th>\n",
       "      <th>processed_text</th>\n",
       "    </tr>\n",
       "  </thead>\n",
       "  <tbody>\n",
       "    <tr>\n",
       "      <th>0</th>\n",
       "      <td>The WISE simulations allowed the students to c...</td>\n",
       "      <td>the wise simulations allowed the students to c...</td>\n",
       "      <td>wise simulation allow student conceptualize ab...</td>\n",
       "    </tr>\n",
       "    <tr>\n",
       "      <th>1</th>\n",
       "      <td>The most effective aspects in wise activity we...</td>\n",
       "      <td>the most effective aspects in wise activity we...</td>\n",
       "      <td>effective aspect wise activity create spirit t...</td>\n",
       "    </tr>\n",
       "    <tr>\n",
       "      <th>2</th>\n",
       "      <td>WISE uses predict-observe-explain patterns wit...</td>\n",
       "      <td>wise uses predict observe explain patterns wit...</td>\n",
       "      <td>wise use predict observe explain pattern promp...</td>\n",
       "    </tr>\n",
       "  </tbody>\n",
       "</table>\n",
       "</div>"
      ],
      "text/plain": [
       "                                                text  \\\n",
       "0  The WISE simulations allowed the students to c...   \n",
       "1  The most effective aspects in wise activity we...   \n",
       "2  WISE uses predict-observe-explain patterns wit...   \n",
       "\n",
       "                                   standardized_text  \\\n",
       "0  the wise simulations allowed the students to c...   \n",
       "1  the most effective aspects in wise activity we...   \n",
       "2  wise uses predict observe explain patterns wit...   \n",
       "\n",
       "                                      processed_text  \n",
       "0  wise simulation allow student conceptualize ab...  \n",
       "1  effective aspect wise activity create spirit t...  \n",
       "2  wise use predict observe explain pattern promp...  "
      ]
     },
     "execution_count": 12,
     "metadata": {},
     "output_type": "execute_result"
    }
   ],
   "source": [
    "a.head(3)"
   ]
  },
  {
   "cell_type": "code",
   "execution_count": 13,
   "metadata": {
    "collapsed": false
   },
   "outputs": [
    {
     "data": {
      "text/html": [
       "<div>\n",
       "<style scoped>\n",
       "    .dataframe tbody tr th:only-of-type {\n",
       "        vertical-align: middle;\n",
       "    }\n",
       "\n",
       "    .dataframe tbody tr th {\n",
       "        vertical-align: top;\n",
       "    }\n",
       "\n",
       "    .dataframe thead th {\n",
       "        text-align: right;\n",
       "    }\n",
       "</style>\n",
       "<table border=\"1\" class=\"dataframe\">\n",
       "  <thead>\n",
       "    <tr style=\"text-align: right;\">\n",
       "      <th></th>\n",
       "      <th>replaced_by</th>\n",
       "      <th>to_replace</th>\n",
       "    </tr>\n",
       "  </thead>\n",
       "  <tbody>\n",
       "    <tr>\n",
       "      <th>0</th>\n",
       "      <td>schoolmate</td>\n",
       "      <td>[classmate, schoolmate]</td>\n",
       "    </tr>\n",
       "    <tr>\n",
       "      <th>1</th>\n",
       "      <td>ability</td>\n",
       "      <td>[competence, competency]</td>\n",
       "    </tr>\n",
       "    <tr>\n",
       "      <th>2</th>\n",
       "      <td>ability</td>\n",
       "      <td>[competence, competency]</td>\n",
       "    </tr>\n",
       "  </tbody>\n",
       "</table>\n",
       "</div>"
      ],
      "text/plain": [
       "  replaced_by                to_replace\n",
       "0  schoolmate   [classmate, schoolmate]\n",
       "1     ability  [competence, competency]\n",
       "2     ability  [competence, competency]"
      ]
     },
     "execution_count": 13,
     "metadata": {},
     "output_type": "execute_result"
    }
   ],
   "source": [
    "b.head(3)"
   ]
  },
  {
   "cell_type": "code",
   "execution_count": 14,
   "metadata": {
    "collapsed": false
   },
   "outputs": [
    {
     "data": {
      "text/html": [
       "<div>\n",
       "<style scoped>\n",
       "    .dataframe tbody tr th:only-of-type {\n",
       "        vertical-align: middle;\n",
       "    }\n",
       "\n",
       "    .dataframe tbody tr th {\n",
       "        vertical-align: top;\n",
       "    }\n",
       "\n",
       "    .dataframe thead th {\n",
       "        text-align: right;\n",
       "    }\n",
       "</style>\n",
       "<table border=\"1\" class=\"dataframe\">\n",
       "  <thead>\n",
       "    <tr style=\"text-align: right;\">\n",
       "      <th></th>\n",
       "      <th>processed_text</th>\n",
       "      <th>count</th>\n",
       "      <th>pos</th>\n",
       "      <th>vect</th>\n",
       "      <th>x</th>\n",
       "      <th>y</th>\n",
       "      <th>cluster</th>\n",
       "      <th>cluster_center</th>\n",
       "      <th>distance_to_center</th>\n",
       "      <th>representative_cluster</th>\n",
       "      <th>wordnet</th>\n",
       "    </tr>\n",
       "  </thead>\n",
       "  <tbody>\n",
       "    <tr>\n",
       "      <th>0</th>\n",
       "      <td>ability</td>\n",
       "      <td>2</td>\n",
       "      <td>n</td>\n",
       "      <td>[-0.098041, 0.1796, -0.57259, 0.073026, -0.084...</td>\n",
       "      <td>0.003403</td>\n",
       "      <td>0.755828</td>\n",
       "      <td>13</td>\n",
       "      <td>[0.09747250157242754, 0.7862965760710049]</td>\n",
       "      <td>0.009777</td>\n",
       "      <td>False</td>\n",
       "      <td>attribute</td>\n",
       "    </tr>\n",
       "    <tr>\n",
       "      <th>1</th>\n",
       "      <td>abundance</td>\n",
       "      <td>1</td>\n",
       "      <td>n</td>\n",
       "      <td>[-0.26207, 0.1481, -0.046696, 0.45521, 0.01820...</td>\n",
       "      <td>0.086277</td>\n",
       "      <td>0.081123</td>\n",
       "      <td>17</td>\n",
       "      <td>[0.20562894324981815, 0.11285769777207387]</td>\n",
       "      <td>0.015252</td>\n",
       "      <td>False</td>\n",
       "      <td>quantity</td>\n",
       "    </tr>\n",
       "    <tr>\n",
       "      <th>2</th>\n",
       "      <td>accord</td>\n",
       "      <td>4</td>\n",
       "      <td>v</td>\n",
       "      <td>[-0.098114, -0.24023, 0.15353, 0.31165, 0.0055...</td>\n",
       "      <td>-0.966565</td>\n",
       "      <td>0.209087</td>\n",
       "      <td>11</td>\n",
       "      <td>[-0.862085654872953, 0.32351745065053844]</td>\n",
       "      <td>0.024010</td>\n",
       "      <td>False</td>\n",
       "      <td>harmonize</td>\n",
       "    </tr>\n",
       "  </tbody>\n",
       "</table>\n",
       "</div>"
      ],
      "text/plain": [
       "  processed_text  count pos  \\\n",
       "0        ability      2   n   \n",
       "1      abundance      1   n   \n",
       "2         accord      4   v   \n",
       "\n",
       "                                                vect         x         y  \\\n",
       "0  [-0.098041, 0.1796, -0.57259, 0.073026, -0.084...  0.003403  0.755828   \n",
       "1  [-0.26207, 0.1481, -0.046696, 0.45521, 0.01820...  0.086277  0.081123   \n",
       "2  [-0.098114, -0.24023, 0.15353, 0.31165, 0.0055... -0.966565  0.209087   \n",
       "\n",
       "   cluster                              cluster_center  distance_to_center  \\\n",
       "0       13   [0.09747250157242754, 0.7862965760710049]            0.009777   \n",
       "1       17  [0.20562894324981815, 0.11285769777207387]            0.015252   \n",
       "2       11   [-0.862085654872953, 0.32351745065053844]            0.024010   \n",
       "\n",
       "   representative_cluster    wordnet  \n",
       "0                   False  attribute  \n",
       "1                   False   quantity  \n",
       "2                   False  harmonize  "
      ]
     },
     "execution_count": 14,
     "metadata": {},
     "output_type": "execute_result"
    }
   ],
   "source": [
    "c.head(3)"
   ]
  },
  {
   "cell_type": "code",
   "execution_count": 11,
   "metadata": {
    "collapsed": false
   },
   "outputs": [
    {
     "name": "stdout",
     "output_type": "stream",
     "text": [
      "Begin preprocessing stage\n",
      "Begin global stopwords removing stage\n",
      "Begin concatenate old and new data then groupby stage\n",
      "Begin embedding stage\n",
      "Begin words replacement stage\n",
      "***  Before the replacement, we have 479 words\n",
      "Begin remove most frequency stage (within the dataset)\n",
      "Begin clustering stage\n",
      "Begin find concept stage\n",
      "Time:  20.913381099700928  s\n"
     ]
    }
   ],
   "source": [
    "now = time.time()\n",
    "a_, b_, c_ = update_dashboard(DATA_UPDATED, \n",
    "                       'text',\n",
    "                       a,\n",
    "                       b,\n",
    "                       c,\n",
    "                       fasttext, STOPWORDS, NB_CLUSTER, THRESHOLD_REPLACEMENT, SEED, cutoff=False, threshold_takeout=None)\n",
    "\n",
    "print('Time: ', time.time()-now,' s')"
   ]
  },
  {
   "cell_type": "code",
   "execution_count": 15,
   "metadata": {
    "collapsed": false
   },
   "outputs": [
    {
     "data": {
      "text/html": [
       "<div>\n",
       "<style scoped>\n",
       "    .dataframe tbody tr th:only-of-type {\n",
       "        vertical-align: middle;\n",
       "    }\n",
       "\n",
       "    .dataframe tbody tr th {\n",
       "        vertical-align: top;\n",
       "    }\n",
       "\n",
       "    .dataframe thead th {\n",
       "        text-align: right;\n",
       "    }\n",
       "</style>\n",
       "<table border=\"1\" class=\"dataframe\">\n",
       "  <thead>\n",
       "    <tr style=\"text-align: right;\">\n",
       "      <th></th>\n",
       "      <th>text</th>\n",
       "      <th>standardized_text</th>\n",
       "      <th>processed_text</th>\n",
       "    </tr>\n",
       "  </thead>\n",
       "  <tbody>\n",
       "    <tr>\n",
       "      <th>730</th>\n",
       "      <td>Help students to get a better vision of what  ...</td>\n",
       "      <td>help students to get a better vision of what  ...</td>\n",
       "      <td>help student get good vision taught thermodyna...</td>\n",
       "    </tr>\n",
       "    <tr>\n",
       "      <th>731</th>\n",
       "      <td>In chronic recurrent sialadenitis or chronic s...</td>\n",
       "      <td>in chronic recurrent sialadenitis or chronic s...</td>\n",
       "      <td>chronic recurrent sialadenitis chronic scleros...</td>\n",
       "    </tr>\n",
       "    <tr>\n",
       "      <th>732</th>\n",
       "      <td>Practical examples using excellent visuals. Ch...</td>\n",
       "      <td>practical examples using excellent visuals. ch...</td>\n",
       "      <td>practical example use excellent visuals challe...</td>\n",
       "    </tr>\n",
       "  </tbody>\n",
       "</table>\n",
       "</div>"
      ],
      "text/plain": [
       "                                                  text  \\\n",
       "730  Help students to get a better vision of what  ...   \n",
       "731  In chronic recurrent sialadenitis or chronic s...   \n",
       "732  Practical examples using excellent visuals. Ch...   \n",
       "\n",
       "                                     standardized_text  \\\n",
       "730  help students to get a better vision of what  ...   \n",
       "731  in chronic recurrent sialadenitis or chronic s...   \n",
       "732  practical examples using excellent visuals. ch...   \n",
       "\n",
       "                                        processed_text  \n",
       "730  help student get good vision taught thermodyna...  \n",
       "731  chronic recurrent sialadenitis chronic scleros...  \n",
       "732  practical example use excellent visuals challe...  "
      ]
     },
     "execution_count": 15,
     "metadata": {},
     "output_type": "execute_result"
    }
   ],
   "source": [
    "a_.tail(3)"
   ]
  },
  {
   "cell_type": "code",
   "execution_count": 16,
   "metadata": {
    "collapsed": false
   },
   "outputs": [
    {
     "data": {
      "text/html": [
       "<div>\n",
       "<style scoped>\n",
       "    .dataframe tbody tr th:only-of-type {\n",
       "        vertical-align: middle;\n",
       "    }\n",
       "\n",
       "    .dataframe tbody tr th {\n",
       "        vertical-align: top;\n",
       "    }\n",
       "\n",
       "    .dataframe thead th {\n",
       "        text-align: right;\n",
       "    }\n",
       "</style>\n",
       "<table border=\"1\" class=\"dataframe\">\n",
       "  <thead>\n",
       "    <tr style=\"text-align: right;\">\n",
       "      <th></th>\n",
       "      <th>replaced_by</th>\n",
       "      <th>to_replace</th>\n",
       "    </tr>\n",
       "  </thead>\n",
       "  <tbody>\n",
       "    <tr>\n",
       "      <th>77</th>\n",
       "      <td>image</td>\n",
       "      <td>[visualisation, visualise, visualization, visu...</td>\n",
       "    </tr>\n",
       "    <tr>\n",
       "      <th>78</th>\n",
       "      <td>image</td>\n",
       "      <td>[visualisation, visualise, visualization, visu...</td>\n",
       "    </tr>\n",
       "    <tr>\n",
       "      <th>79</th>\n",
       "      <td>image</td>\n",
       "      <td>[visualisation, visualise, visualization, visu...</td>\n",
       "    </tr>\n",
       "  </tbody>\n",
       "</table>\n",
       "</div>"
      ],
      "text/plain": [
       "   replaced_by                                         to_replace\n",
       "77       image  [visualisation, visualise, visualization, visu...\n",
       "78       image  [visualisation, visualise, visualization, visu...\n",
       "79       image  [visualisation, visualise, visualization, visu..."
      ]
     },
     "execution_count": 16,
     "metadata": {},
     "output_type": "execute_result"
    }
   ],
   "source": [
    "b_.tail(3)"
   ]
  },
  {
   "cell_type": "code",
   "execution_count": 17,
   "metadata": {
    "collapsed": false
   },
   "outputs": [
    {
     "data": {
      "text/html": [
       "<div>\n",
       "<style scoped>\n",
       "    .dataframe tbody tr th:only-of-type {\n",
       "        vertical-align: middle;\n",
       "    }\n",
       "\n",
       "    .dataframe tbody tr th {\n",
       "        vertical-align: top;\n",
       "    }\n",
       "\n",
       "    .dataframe thead th {\n",
       "        text-align: right;\n",
       "    }\n",
       "</style>\n",
       "<table border=\"1\" class=\"dataframe\">\n",
       "  <thead>\n",
       "    <tr style=\"text-align: right;\">\n",
       "      <th></th>\n",
       "      <th>processed_text</th>\n",
       "      <th>count</th>\n",
       "      <th>pos</th>\n",
       "      <th>vect</th>\n",
       "      <th>x</th>\n",
       "      <th>y</th>\n",
       "      <th>cluster</th>\n",
       "      <th>cluster_center</th>\n",
       "      <th>distance_to_center</th>\n",
       "      <th>representative_cluster</th>\n",
       "      <th>wordnet</th>\n",
       "    </tr>\n",
       "  </thead>\n",
       "  <tbody>\n",
       "    <tr>\n",
       "      <th>445</th>\n",
       "      <td>ère</td>\n",
       "      <td>1</td>\n",
       "      <td>v</td>\n",
       "      <td>[-0.17093, 0.048506, 0.073312, 0.25404, -0.022...</td>\n",
       "      <td>-0.780448</td>\n",
       "      <td>1.150914</td>\n",
       "      <td>25</td>\n",
       "      <td>[-0.47929299653973223, 1.0321209606584854]</td>\n",
       "      <td>0.104806</td>\n",
       "      <td>False</td>\n",
       "      <td>metric_unit</td>\n",
       "    </tr>\n",
       "    <tr>\n",
       "      <th>446</th>\n",
       "      <td>ès</td>\n",
       "      <td>7</td>\n",
       "      <td>n</td>\n",
       "      <td>[-0.16176, 0.0049421, -1.0167, -0.00041378, -0...</td>\n",
       "      <td>-1.078781</td>\n",
       "      <td>1.951376</td>\n",
       "      <td>24</td>\n",
       "      <td>[-0.9829914957905036, 1.508989055961509]</td>\n",
       "      <td>0.204882</td>\n",
       "      <td>False</td>\n",
       "      <td>measure</td>\n",
       "    </tr>\n",
       "    <tr>\n",
       "      <th>447</th>\n",
       "      <td>ève</td>\n",
       "      <td>1</td>\n",
       "      <td>v</td>\n",
       "      <td>[0.3226, -0.0018622, -0.18705, -0.078807, 0.17...</td>\n",
       "      <td>-1.254155</td>\n",
       "      <td>0.911804</td>\n",
       "      <td>16</td>\n",
       "      <td>[-1.0681432222452203, 0.7303314142842517]</td>\n",
       "      <td>0.067532</td>\n",
       "      <td>False</td>\n",
       "      <td>flag_officer</td>\n",
       "    </tr>\n",
       "  </tbody>\n",
       "</table>\n",
       "</div>"
      ],
      "text/plain": [
       "    processed_text  count pos  \\\n",
       "445            ère      1   v   \n",
       "446             ès      7   n   \n",
       "447            ève      1   v   \n",
       "\n",
       "                                                  vect         x         y  \\\n",
       "445  [-0.17093, 0.048506, 0.073312, 0.25404, -0.022... -0.780448  1.150914   \n",
       "446  [-0.16176, 0.0049421, -1.0167, -0.00041378, -0... -1.078781  1.951376   \n",
       "447  [0.3226, -0.0018622, -0.18705, -0.078807, 0.17... -1.254155  0.911804   \n",
       "\n",
       "     cluster                              cluster_center  distance_to_center  \\\n",
       "445       25  [-0.47929299653973223, 1.0321209606584854]            0.104806   \n",
       "446       24    [-0.9829914957905036, 1.508989055961509]            0.204882   \n",
       "447       16   [-1.0681432222452203, 0.7303314142842517]            0.067532   \n",
       "\n",
       "     representative_cluster       wordnet  \n",
       "445                   False   metric_unit  \n",
       "446                   False       measure  \n",
       "447                   False  flag_officer  "
      ]
     },
     "execution_count": 17,
     "metadata": {},
     "output_type": "execute_result"
    }
   ],
   "source": [
    "c_.tail(3)"
   ]
  },
  {
   "cell_type": "markdown",
   "metadata": {},
   "source": [
    "# 2 matching against teacher’s concepts"
   ]
  },
  {
   "cell_type": "code",
   "execution_count": 18,
   "metadata": {
    "collapsed": false
   },
   "outputs": [],
   "source": [
    "from lsa import check_responses"
   ]
  },
  {
   "cell_type": "markdown",
   "metadata": {},
   "source": [
    "### 2.1 Reflection dataset (english)"
   ]
  },
  {
   "cell_type": "code",
   "execution_count": 19,
   "metadata": {
    "collapsed": true
   },
   "outputs": [],
   "source": [
    "PROF_EXPECTATION = \"experiment melt chocolate\"\n",
    "PROF_EXPECTATION += \" \"\n",
    "PATH_TO_DATA    = \"data/ref_w1q1.csv\"\n",
    "LATENT_SPACE = 60"
   ]
  },
  {
   "cell_type": "code",
   "execution_count": 20,
   "metadata": {
    "collapsed": false
   },
   "outputs": [
    {
     "data": {
      "text/html": [
       "<div>\n",
       "<style scoped>\n",
       "    .dataframe tbody tr th:only-of-type {\n",
       "        vertical-align: middle;\n",
       "    }\n",
       "\n",
       "    .dataframe tbody tr th {\n",
       "        vertical-align: top;\n",
       "    }\n",
       "\n",
       "    .dataframe thead th {\n",
       "        text-align: right;\n",
       "    }\n",
       "</style>\n",
       "<table border=\"1\" class=\"dataframe\">\n",
       "  <thead>\n",
       "    <tr style=\"text-align: right;\">\n",
       "      <th></th>\n",
       "      <th>text</th>\n",
       "    </tr>\n",
       "  </thead>\n",
       "  <tbody>\n",
       "    <tr>\n",
       "      <th>0</th>\n",
       "      <td>The WISE simulations allowed the students to c...</td>\n",
       "    </tr>\n",
       "    <tr>\n",
       "      <th>1</th>\n",
       "      <td>The most effective aspects in wise activity we...</td>\n",
       "    </tr>\n",
       "    <tr>\n",
       "      <th>2</th>\n",
       "      <td>WISE uses predict-observe-explain patterns wit...</td>\n",
       "    </tr>\n",
       "  </tbody>\n",
       "</table>\n",
       "</div>"
      ],
      "text/plain": [
       "                                                text\n",
       "0  The WISE simulations allowed the students to c...\n",
       "1  The most effective aspects in wise activity we...\n",
       "2  WISE uses predict-observe-explain patterns wit..."
      ]
     },
     "execution_count": 20,
     "metadata": {},
     "output_type": "execute_result"
    }
   ],
   "source": [
    "dataframe = pd.read_csv(PATH_TO_DATA)\n",
    "dataframe.head(3)"
   ]
  },
  {
   "cell_type": "code",
   "execution_count": 21,
   "metadata": {
    "collapsed": false
   },
   "outputs": [
    {
     "name": "stdout",
     "output_type": "stream",
     "text": [
      "There are 733 responses in 2040 significant terms\n"
     ]
    }
   ],
   "source": [
    "dataframe, sim_scores = check_responses(dataframe, 'text', LATENT_SPACE, PROF_EXPECTATION)"
   ]
  },
  {
   "cell_type": "code",
   "execution_count": 22,
   "metadata": {
    "collapsed": false
   },
   "outputs": [
    {
     "data": {
      "text/html": [
       "<div>\n",
       "<style scoped>\n",
       "    .dataframe tbody tr th:only-of-type {\n",
       "        vertical-align: middle;\n",
       "    }\n",
       "\n",
       "    .dataframe tbody tr th {\n",
       "        vertical-align: top;\n",
       "    }\n",
       "\n",
       "    .dataframe thead th {\n",
       "        text-align: right;\n",
       "    }\n",
       "</style>\n",
       "<table border=\"1\" class=\"dataframe\">\n",
       "  <thead>\n",
       "    <tr style=\"text-align: right;\">\n",
       "      <th></th>\n",
       "      <th>text</th>\n",
       "      <th>standardized_text</th>\n",
       "      <th>processed_text</th>\n",
       "      <th>score</th>\n",
       "    </tr>\n",
       "  </thead>\n",
       "  <tbody>\n",
       "    <tr>\n",
       "      <th>0</th>\n",
       "      <td>The WISE simulations allowed the students to c...</td>\n",
       "      <td>the wise simulations allowed the students to c...</td>\n",
       "      <td>wise simulation allow student conceptualize ab...</td>\n",
       "      <td>0.024981</td>\n",
       "    </tr>\n",
       "    <tr>\n",
       "      <th>1</th>\n",
       "      <td>The most effective aspects in wise activity we...</td>\n",
       "      <td>the most effective aspects in wise activity we...</td>\n",
       "      <td>effective aspect wise activity create spirit t...</td>\n",
       "      <td>0.013330</td>\n",
       "    </tr>\n",
       "    <tr>\n",
       "      <th>2</th>\n",
       "      <td>WISE uses predict-observe-explain patterns wit...</td>\n",
       "      <td>wise uses predict observe explain patterns wit...</td>\n",
       "      <td>wise use predict observe explain pattern promp...</td>\n",
       "      <td>0.004272</td>\n",
       "    </tr>\n",
       "    <tr>\n",
       "      <th>3</th>\n",
       "      <td>It appears that the interactive app allowed th...</td>\n",
       "      <td>it appears that the interactive app allowed th...</td>\n",
       "      <td>appear interactive app allow visualize science...</td>\n",
       "      <td>0.004936</td>\n",
       "    </tr>\n",
       "    <tr>\n",
       "      <th>4</th>\n",
       "      <td>Students can make predictions and test them. T...</td>\n",
       "      <td>students can make predictions and test them. t...</td>\n",
       "      <td>student make prediction test work small group</td>\n",
       "      <td>0.000969</td>\n",
       "    </tr>\n",
       "  </tbody>\n",
       "</table>\n",
       "</div>"
      ],
      "text/plain": [
       "                                                text  \\\n",
       "0  The WISE simulations allowed the students to c...   \n",
       "1  The most effective aspects in wise activity we...   \n",
       "2  WISE uses predict-observe-explain patterns wit...   \n",
       "3  It appears that the interactive app allowed th...   \n",
       "4  Students can make predictions and test them. T...   \n",
       "\n",
       "                                   standardized_text  \\\n",
       "0  the wise simulations allowed the students to c...   \n",
       "1  the most effective aspects in wise activity we...   \n",
       "2  wise uses predict observe explain patterns wit...   \n",
       "3  it appears that the interactive app allowed th...   \n",
       "4  students can make predictions and test them. t...   \n",
       "\n",
       "                                      processed_text     score  \n",
       "0  wise simulation allow student conceptualize ab...  0.024981  \n",
       "1  effective aspect wise activity create spirit t...  0.013330  \n",
       "2  wise use predict observe explain pattern promp...  0.004272  \n",
       "3  appear interactive app allow visualize science...  0.004936  \n",
       "4    student make prediction test work small group    0.000969  "
      ]
     },
     "execution_count": 22,
     "metadata": {},
     "output_type": "execute_result"
    }
   ],
   "source": [
    "dataframe.head()"
   ]
  },
  {
   "cell_type": "code",
   "execution_count": 23,
   "metadata": {
    "collapsed": false
   },
   "outputs": [
    {
     "data": {
      "text/plain": [
       "array([[1.00000000e+00, 1.74099404e-01, 3.75404330e-01, ...,\n",
       "        1.17844693e-01, 1.62409964e-01, 7.78440656e-02],\n",
       "       [1.74099404e-01, 1.00000000e+00, 3.72085805e-01, ...,\n",
       "        9.08839845e-02, 8.35789317e-04, 1.91295987e-01],\n",
       "       [3.75404330e-01, 3.72085805e-01, 1.00000000e+00, ...,\n",
       "        1.79225951e-01, 6.13688950e-02, 2.14679067e-01],\n",
       "       ...,\n",
       "       [1.17844693e-01, 9.08839845e-02, 1.79225951e-01, ...,\n",
       "        1.00000000e+00, 7.48203320e-02, 1.58046138e-01],\n",
       "       [1.62409964e-01, 8.35789317e-04, 6.13688950e-02, ...,\n",
       "        7.48203320e-02, 1.00000000e+00, 2.84118768e-01],\n",
       "       [7.78440656e-02, 1.91295987e-01, 2.14679067e-01, ...,\n",
       "        1.58046138e-01, 2.84118768e-01, 1.00000000e+00]])"
      ]
     },
     "execution_count": 23,
     "metadata": {},
     "output_type": "execute_result"
    }
   ],
   "source": [
    "sim_scores"
   ]
  },
  {
   "cell_type": "code",
   "execution_count": 24,
   "metadata": {
    "collapsed": false
   },
   "outputs": [
    {
     "data": {
      "text/plain": [
       "(733, 733)"
      ]
     },
     "execution_count": 24,
     "metadata": {},
     "output_type": "execute_result"
    }
   ],
   "source": [
    "sim_scores.shape"
   ]
  },
  {
   "cell_type": "code",
   "execution_count": null,
   "metadata": {
    "collapsed": true
   },
   "outputs": [],
   "source": []
  },
  {
   "cell_type": "code",
   "execution_count": null,
   "metadata": {
    "collapsed": true
   },
   "outputs": [],
   "source": []
  },
  {
   "cell_type": "code",
   "execution_count": null,
   "metadata": {
    "collapsed": true
   },
   "outputs": [],
   "source": []
  },
  {
   "cell_type": "code",
   "execution_count": null,
   "metadata": {
    "collapsed": true
   },
   "outputs": [],
   "source": []
  },
  {
   "cell_type": "markdown",
   "metadata": {},
   "source": [
    "### 2.2 Statistic dataset (french)"
   ]
  },
  {
   "cell_type": "code",
   "execution_count": 25,
   "metadata": {
    "collapsed": false
   },
   "outputs": [],
   "source": [
    "POS_JAR = \"data/stanford-postagger-full-2017-06-09/stanford-postagger-3.8.0.jar\"\n",
    "POS_MODEL = \"data/stanford-postagger-full-2017-06-09/models/french.tagger\"\n",
    "\n",
    "PROF_EXPECTATION_FRENCH = \"Il faut utiliser la loi de poisson\"\n",
    "PROF_EXPECTATION_FRENCH += \" ou poisson distribution\"\n",
    "PATH_TO_FRENCH_DATA    = 'data/data2.tsv'\n",
    "FRENCH_LATENT_SPACE = 20"
   ]
  },
  {
   "cell_type": "code",
   "execution_count": 26,
   "metadata": {
    "collapsed": false
   },
   "outputs": [
    {
     "data": {
      "text/html": [
       "<div>\n",
       "<style scoped>\n",
       "    .dataframe tbody tr th:only-of-type {\n",
       "        vertical-align: middle;\n",
       "    }\n",
       "\n",
       "    .dataframe tbody tr th {\n",
       "        vertical-align: top;\n",
       "    }\n",
       "\n",
       "    .dataframe thead th {\n",
       "        text-align: right;\n",
       "    }\n",
       "</style>\n",
       "<table border=\"1\" class=\"dataframe\">\n",
       "  <thead>\n",
       "    <tr style=\"text-align: right;\">\n",
       "      <th></th>\n",
       "      <th>text</th>\n",
       "    </tr>\n",
       "  </thead>\n",
       "  <tbody>\n",
       "    <tr>\n",
       "      <th>0</th>\n",
       "      <td>On compte les clients du fitness qui viennent...</td>\n",
       "    </tr>\n",
       "    <tr>\n",
       "      <th>1</th>\n",
       "      <td>- Calculer le nombre d'étudiants libre dans ce...</td>\n",
       "    </tr>\n",
       "    <tr>\n",
       "      <th>2</th>\n",
       "      <td>-Un compteur à l’entrée qui permet de compter ...</td>\n",
       "    </tr>\n",
       "    <tr>\n",
       "      <th>3</th>\n",
       "      <td>-placer un portique qui laisse passer 1 person...</td>\n",
       "    </tr>\n",
       "    <tr>\n",
       "      <th>4</th>\n",
       "      <td>Afin d'estimer au mieux le nombre de personne,...</td>\n",
       "    </tr>\n",
       "    <tr>\n",
       "      <th>5</th>\n",
       "      <td>Afin de compter au mieux le nombre de personne...</td>\n",
       "    </tr>\n",
       "    <tr>\n",
       "      <th>6</th>\n",
       "      <td>AfinUne porte avec une carte permettrai de com...</td>\n",
       "    </tr>\n",
       "  </tbody>\n",
       "</table>\n",
       "</div>"
      ],
      "text/plain": [
       "                                                text\n",
       "0   On compte les clients du fitness qui viennent...\n",
       "1  - Calculer le nombre d'étudiants libre dans ce...\n",
       "2  -Un compteur à l’entrée qui permet de compter ...\n",
       "3  -placer un portique qui laisse passer 1 person...\n",
       "4  Afin d'estimer au mieux le nombre de personne,...\n",
       "5  Afin de compter au mieux le nombre de personne...\n",
       "6  AfinUne porte avec une carte permettrai de com..."
      ]
     },
     "execution_count": 26,
     "metadata": {},
     "output_type": "execute_result"
    }
   ],
   "source": [
    "french = pd.read_csv(PATH_TO_FRENCH_DATA, header = None, sep = '\\t', encoding = \"utf-8\")\n",
    "french.columns = ['text']\n",
    "french.head(7)"
   ]
  },
  {
   "cell_type": "code",
   "execution_count": 27,
   "metadata": {
    "collapsed": false
   },
   "outputs": [
    {
     "name": "stderr",
     "output_type": "stream",
     "text": [
      "/Users/Cescnghia/Applications/anaconda/lib/python3.6/site-packages/nltk/tag/stanford.py:149: DeprecationWarning: \n",
      "The StanfordTokenizer will be deprecated in version 3.2.5.\n",
      "Please use \u001b[91mnltk.tag.corenlp.CoreNLPPOSTagger\u001b[0m or \u001b[91mnltk.tag.corenlp.CoreNLPNERTagger\u001b[0m instead.\n",
      "  super(StanfordPOSTagger, self).__init__(*args, **kwargs)\n"
     ]
    },
    {
     "name": "stdout",
     "output_type": "stream",
     "text": [
      "There are 161 responses in 634 significant terms\n"
     ]
    },
    {
     "name": "stderr",
     "output_type": "stream",
     "text": [
      "/Users/Cescnghia/Applications/anaconda/lib/python3.6/site-packages/nltk/tag/stanford.py:149: DeprecationWarning: \n",
      "The StanfordTokenizer will be deprecated in version 3.2.5.\n",
      "Please use \u001b[91mnltk.tag.corenlp.CoreNLPPOSTagger\u001b[0m or \u001b[91mnltk.tag.corenlp.CoreNLPNERTagger\u001b[0m instead.\n",
      "  super(StanfordPOSTagger, self).__init__(*args, **kwargs)\n"
     ]
    },
    {
     "name": "stdout",
     "output_type": "stream",
     "text": [
      "It took 3.0268712520599363 mins to run this method\n"
     ]
    }
   ],
   "source": [
    "now = time.time()\n",
    "\n",
    "profAnswer = \"Il faut utiliser la loi de poisson\"\n",
    "profAnswer += \" ou poisson distribution\"\n",
    "\n",
    "french, french_sim_scores = check_responses(french, 'text', FRENCH_LATENT_SPACE, PROF_EXPECTATION_FRENCH, POS_JAR, POS_MODEL, english=False)\n",
    "\n",
    "print('It took {s} mins to run this method'.format(s=(time.time()-now)/60))"
   ]
  },
  {
   "cell_type": "code",
   "execution_count": 28,
   "metadata": {
    "collapsed": false
   },
   "outputs": [
    {
     "data": {
      "text/html": [
       "<div>\n",
       "<style scoped>\n",
       "    .dataframe tbody tr th:only-of-type {\n",
       "        vertical-align: middle;\n",
       "    }\n",
       "\n",
       "    .dataframe tbody tr th {\n",
       "        vertical-align: top;\n",
       "    }\n",
       "\n",
       "    .dataframe thead th {\n",
       "        text-align: right;\n",
       "    }\n",
       "</style>\n",
       "<table border=\"1\" class=\"dataframe\">\n",
       "  <thead>\n",
       "    <tr style=\"text-align: right;\">\n",
       "      <th></th>\n",
       "      <th>text</th>\n",
       "      <th>standardized_text</th>\n",
       "      <th>processed_text</th>\n",
       "      <th>score</th>\n",
       "    </tr>\n",
       "  </thead>\n",
       "  <tbody>\n",
       "    <tr>\n",
       "      <th>0</th>\n",
       "      <td>On compte les clients du fitness qui viennent...</td>\n",
       "      <td>on compte les clients du fitness qui viennent...</td>\n",
       "      <td>compter client fitness venir mardi heure an él...</td>\n",
       "      <td>-0.153073</td>\n",
       "    </tr>\n",
       "    <tr>\n",
       "      <th>1</th>\n",
       "      <td>- Calculer le nombre d'étudiants libre dans ce...</td>\n",
       "      <td>calculer le nombre d étudiants libre dans ce...</td>\n",
       "      <td>calculer nombre étudiant libre intervalle temp...</td>\n",
       "      <td>0.129787</td>\n",
       "    </tr>\n",
       "    <tr>\n",
       "      <th>2</th>\n",
       "      <td>-Un compteur à l’entrée qui permet de compter ...</td>\n",
       "      <td>un compteur à l’entrée qui permet de compter ...</td>\n",
       "      <td>compteur entrée permettre compter nombre perso...</td>\n",
       "      <td>-0.036275</td>\n",
       "    </tr>\n",
       "    <tr>\n",
       "      <th>3</th>\n",
       "      <td>-placer un portique qui laisse passer 1 person...</td>\n",
       "      <td>placer un portique qui laisse passer   person...</td>\n",
       "      <td>placer portique laisser passer foi décompte no...</td>\n",
       "      <td>-0.053614</td>\n",
       "    </tr>\n",
       "    <tr>\n",
       "      <th>4</th>\n",
       "      <td>Afin d'estimer au mieux le nombre de personne,...</td>\n",
       "      <td>afin d estimer au mieux le nombre de personne ...</td>\n",
       "      <td>estimer mieux nombre falloir obliger personne ...</td>\n",
       "      <td>0.638562</td>\n",
       "    </tr>\n",
       "    <tr>\n",
       "      <th>5</th>\n",
       "      <td>Afin de compter au mieux le nombre de personne...</td>\n",
       "      <td>afin de compter au mieux le nombre de personne...</td>\n",
       "      <td>compter mieux nombre entrer centre sportif mar...</td>\n",
       "      <td>0.787432</td>\n",
       "    </tr>\n",
       "    <tr>\n",
       "      <th>6</th>\n",
       "      <td>AfinUne porte avec une carte permettrai de com...</td>\n",
       "      <td>afinune porte avec une carte permettrai de com...</td>\n",
       "      <td>afinune porter carte permettrai compter voir n...</td>\n",
       "      <td>0.525858</td>\n",
       "    </tr>\n",
       "  </tbody>\n",
       "</table>\n",
       "</div>"
      ],
      "text/plain": [
       "                                                text  \\\n",
       "0   On compte les clients du fitness qui viennent...   \n",
       "1  - Calculer le nombre d'étudiants libre dans ce...   \n",
       "2  -Un compteur à l’entrée qui permet de compter ...   \n",
       "3  -placer un portique qui laisse passer 1 person...   \n",
       "4  Afin d'estimer au mieux le nombre de personne,...   \n",
       "5  Afin de compter au mieux le nombre de personne...   \n",
       "6  AfinUne porte avec une carte permettrai de com...   \n",
       "\n",
       "                                   standardized_text  \\\n",
       "0   on compte les clients du fitness qui viennent...   \n",
       "1    calculer le nombre d étudiants libre dans ce...   \n",
       "2   un compteur à l’entrée qui permet de compter ...   \n",
       "3   placer un portique qui laisse passer   person...   \n",
       "4  afin d estimer au mieux le nombre de personne ...   \n",
       "5  afin de compter au mieux le nombre de personne...   \n",
       "6  afinune porte avec une carte permettrai de com...   \n",
       "\n",
       "                                      processed_text     score  \n",
       "0  compter client fitness venir mardi heure an él... -0.153073  \n",
       "1  calculer nombre étudiant libre intervalle temp...  0.129787  \n",
       "2  compteur entrée permettre compter nombre perso... -0.036275  \n",
       "3  placer portique laisser passer foi décompte no... -0.053614  \n",
       "4  estimer mieux nombre falloir obliger personne ...  0.638562  \n",
       "5  compter mieux nombre entrer centre sportif mar...  0.787432  \n",
       "6  afinune porter carte permettrai compter voir n...  0.525858  "
      ]
     },
     "execution_count": 28,
     "metadata": {},
     "output_type": "execute_result"
    }
   ],
   "source": [
    "french.head(7)"
   ]
  },
  {
   "cell_type": "code",
   "execution_count": 29,
   "metadata": {
    "collapsed": false
   },
   "outputs": [
    {
     "data": {
      "text/plain": [
       "array([[ 1.00000000e+00,  2.14990714e-01,  3.18721151e-02, ...,\n",
       "         4.28044386e-01,  1.67918149e-01, -8.70695155e-02],\n",
       "       [ 2.14990714e-01,  1.00000000e+00,  1.55115033e-01, ...,\n",
       "         5.09420065e-01,  3.36605984e-04,  3.57562080e-02],\n",
       "       [ 3.18721151e-02,  1.55115033e-01,  1.00000000e+00, ...,\n",
       "         3.87751414e-01,  7.82489587e-01,  9.47213416e-02],\n",
       "       ...,\n",
       "       [ 4.28044386e-01,  5.09420065e-01,  3.87751414e-01, ...,\n",
       "         1.00000000e+00,  3.04120610e-01, -2.40547992e-02],\n",
       "       [ 1.67918149e-01,  3.36605984e-04,  7.82489587e-01, ...,\n",
       "         3.04120610e-01,  1.00000000e+00, -4.48388167e-02],\n",
       "       [-8.70695155e-02,  3.57562080e-02,  9.47213416e-02, ...,\n",
       "        -2.40547992e-02, -4.48388167e-02,  1.00000000e+00]])"
      ]
     },
     "execution_count": 29,
     "metadata": {},
     "output_type": "execute_result"
    }
   ],
   "source": [
    "french_sim_scores"
   ]
  },
  {
   "cell_type": "code",
   "execution_count": 30,
   "metadata": {
    "collapsed": false
   },
   "outputs": [
    {
     "data": {
      "text/plain": [
       "145    2.741378\n",
       "146    2.741378\n",
       "63     2.741378\n",
       "151    2.021399\n",
       "42     2.000798\n",
       "101    1.507721\n",
       "62     1.475425\n",
       "77     1.442221\n",
       "160    1.241142\n",
       "87     1.184834\n",
       "84     0.984233\n",
       "Name: score, dtype: float64"
      ]
     },
     "execution_count": 30,
     "metadata": {},
     "output_type": "execute_result"
    }
   ],
   "source": [
    "french['score'].nlargest(11)"
   ]
  },
  {
   "cell_type": "code",
   "execution_count": 31,
   "metadata": {
    "collapsed": false
   },
   "outputs": [
    {
     "data": {
      "text/plain": [
       "'loi poisson\\\\n\\\\n\\\\n\\\\n\\\\n\\\\n\\\\n\\\\n\\\\n\\\\n\\\\n\\\\n\\\\n'"
      ]
     },
     "execution_count": 31,
     "metadata": {},
     "output_type": "execute_result"
    }
   ],
   "source": [
    "french.iloc[146]['text']"
   ]
  },
  {
   "cell_type": "markdown",
   "metadata": {
    "collapsed": true
   },
   "source": [
    "# 3 Tensorflow Hub"
   ]
  },
  {
   "cell_type": "code",
   "execution_count": 28,
   "metadata": {
    "collapsed": true
   },
   "outputs": [],
   "source": [
    "import tensorflow as tf\n",
    "import tensorflow_hub as hub\n",
    "from sklearn.metrics.pairwise import cosine_similarity"
   ]
  },
  {
   "cell_type": "code",
   "execution_count": 156,
   "metadata": {
    "collapsed": false
   },
   "outputs": [
    {
     "data": {
      "text/html": [
       "<div>\n",
       "<style scoped>\n",
       "    .dataframe tbody tr th:only-of-type {\n",
       "        vertical-align: middle;\n",
       "    }\n",
       "\n",
       "    .dataframe tbody tr th {\n",
       "        vertical-align: top;\n",
       "    }\n",
       "\n",
       "    .dataframe thead th {\n",
       "        text-align: right;\n",
       "    }\n",
       "</style>\n",
       "<table border=\"1\" class=\"dataframe\">\n",
       "  <thead>\n",
       "    <tr style=\"text-align: right;\">\n",
       "      <th></th>\n",
       "      <th>text</th>\n",
       "    </tr>\n",
       "  </thead>\n",
       "  <tbody>\n",
       "    <tr>\n",
       "      <th>0</th>\n",
       "      <td>The WISE simulations allowed the students to c...</td>\n",
       "    </tr>\n",
       "    <tr>\n",
       "      <th>1</th>\n",
       "      <td>The most effective aspects in wise activity we...</td>\n",
       "    </tr>\n",
       "    <tr>\n",
       "      <th>2</th>\n",
       "      <td>WISE uses predict-observe-explain patterns wit...</td>\n",
       "    </tr>\n",
       "  </tbody>\n",
       "</table>\n",
       "</div>"
      ],
      "text/plain": [
       "                                                text\n",
       "0  The WISE simulations allowed the students to c...\n",
       "1  The most effective aspects in wise activity we...\n",
       "2  WISE uses predict-observe-explain patterns wit..."
      ]
     },
     "execution_count": 156,
     "metadata": {},
     "output_type": "execute_result"
    }
   ],
   "source": [
    "dataframe = pd.read_csv(PATH_TO_DATA)\n",
    "dataframe.head()\n",
    "dataframe.head(3)"
   ]
  },
  {
   "cell_type": "code",
   "execution_count": 30,
   "metadata": {
    "collapsed": true
   },
   "outputs": [],
   "source": [
    "def hub_sentence_embeddings(df, textfield):\n",
    "    sentences = [x for x in df[textfield]]\n",
    "    with tf.Graph().as_default():\n",
    "        embed = hub.Module(\"https://tfhub.dev/google/nnlm-en-dim128-with-normalization/1\")\n",
    "        embeddings = embed(sentences)\n",
    "        with tf.Session() as sess:\n",
    "            sess.run(tf.global_variables_initializer())\n",
    "            sess.run(tf.tables_initializer())\n",
    "\n",
    "            return sess.run(embeddings)"
   ]
  },
  {
   "cell_type": "code",
   "execution_count": 31,
   "metadata": {
    "collapsed": false
   },
   "outputs": [
    {
     "name": "stdout",
     "output_type": "stream",
     "text": [
      "INFO:tensorflow:Using /var/folders/6l/0zt406zd3v1c3jv20lqlkpmc0000gn/T/tfhub_modules to cache modules.\n",
      "INFO:tensorflow:Initialize variable module/embeddings/part_0:0 from checkpoint b'/var/folders/6l/0zt406zd3v1c3jv20lqlkpmc0000gn/T/tfhub_modules/2cdbcae1a547f4fb93475d4b7d4140f8590995b7/variables/variables' with embeddings\n"
     ]
    }
   ],
   "source": [
    "embedded = hub_sentence_embeddings(dataframe, 'text')\n",
    "english_sim_scores_by_tensorhub = cosine_similarity(embedded)"
   ]
  },
  {
   "cell_type": "code",
   "execution_count": 32,
   "metadata": {
    "collapsed": false
   },
   "outputs": [
    {
     "data": {
      "text/plain": [
       "array([[1.0000001 , 0.81933194, 0.5520406 , ..., 0.77504694, 0.5155209 ,\n",
       "        0.709763  ],\n",
       "       [0.81933194, 1.0000005 , 0.6146651 , ..., 0.77923286, 0.58373034,\n",
       "        0.7202263 ],\n",
       "       [0.5520406 , 0.6146651 , 0.99999994, ..., 0.5152695 , 0.43203086,\n",
       "        0.6238394 ],\n",
       "       ...,\n",
       "       [0.77504694, 0.77923286, 0.5152695 , ..., 1.0000001 , 0.5007949 ,\n",
       "        0.61645794],\n",
       "       [0.5155209 , 0.58373034, 0.43203086, ..., 0.5007949 , 1.0000002 ,\n",
       "        0.3841299 ],\n",
       "       [0.709763  , 0.7202263 , 0.6238394 , ..., 0.61645794, 0.3841299 ,\n",
       "        1.        ]], dtype=float32)"
      ]
     },
     "execution_count": 32,
     "metadata": {},
     "output_type": "execute_result"
    }
   ],
   "source": [
    "english_sim_scores_by_tensorhub"
   ]
  },
  {
   "cell_type": "code",
   "execution_count": null,
   "metadata": {
    "collapsed": true
   },
   "outputs": [],
   "source": []
  },
  {
   "cell_type": "code",
   "execution_count": null,
   "metadata": {
    "collapsed": true
   },
   "outputs": [],
   "source": []
  },
  {
   "cell_type": "code",
   "execution_count": null,
   "metadata": {
    "collapsed": true
   },
   "outputs": [],
   "source": []
  },
  {
   "cell_type": "code",
   "execution_count": null,
   "metadata": {
    "collapsed": true
   },
   "outputs": [],
   "source": []
  },
  {
   "cell_type": "code",
   "execution_count": null,
   "metadata": {
    "collapsed": true
   },
   "outputs": [],
   "source": []
  },
  {
   "cell_type": "code",
   "execution_count": null,
   "metadata": {
    "collapsed": true
   },
   "outputs": [],
   "source": []
  },
  {
   "cell_type": "code",
   "execution_count": null,
   "metadata": {
    "collapsed": true
   },
   "outputs": [],
   "source": []
  },
  {
   "cell_type": "code",
   "execution_count": null,
   "metadata": {
    "collapsed": true
   },
   "outputs": [],
   "source": []
  },
  {
   "cell_type": "code",
   "execution_count": null,
   "metadata": {
    "collapsed": true
   },
   "outputs": [],
   "source": []
  },
  {
   "cell_type": "code",
   "execution_count": null,
   "metadata": {
    "collapsed": true
   },
   "outputs": [],
   "source": []
  },
  {
   "cell_type": "code",
   "execution_count": null,
   "metadata": {
    "collapsed": true
   },
   "outputs": [],
   "source": []
  }
 ],
 "metadata": {
  "kernelspec": {
   "display_name": "Python 3",
   "language": "python",
   "name": "python3"
  },
  "language_info": {
   "codemirror_mode": {
    "name": "ipython",
    "version": 3
   },
   "file_extension": ".py",
   "mimetype": "text/x-python",
   "name": "python",
   "nbconvert_exporter": "python",
   "pygments_lexer": "ipython3",
   "version": "3.6.0"
  }
 },
 "nbformat": 4,
 "nbformat_minor": 2
}
