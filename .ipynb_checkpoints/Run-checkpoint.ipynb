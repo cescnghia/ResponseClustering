{
 "cells": [
  {
   "cell_type": "code",
   "execution_count": 1,
   "metadata": {
    "collapsed": true
   },
   "outputs": [],
   "source": [
    "import warnings\n",
    "warnings.filterwarnings('ignore')\n",
    "import pandas as pd\n",
    "import numpy as np\n",
    "import gensim\n",
    "import time"
   ]
  },
  {
   "cell_type": "code",
   "execution_count": 2,
   "metadata": {
    "collapsed": false
   },
   "outputs": [
    {
     "name": "stdout",
     "output_type": "stream",
     "text": [
      "It took 10.031915267308554 mins to load 2 pretrained models\n"
     ]
    }
   ],
   "source": [
    "\"Load pre-train model\"\n",
    "\n",
    "now = time.time()\n",
    "\"\"\"\n",
    "    Download word2vec pre-trained model at : \"https://code.google.com/archive/p/word2vec/\"\n",
    "\"\"\"\n",
    "\n",
    "#word2vec_path = \"/Users/Cescnghia/Documents/dataset/GoogleNews-vectors-negative300.bin.gz\"\n",
    "#word2vec = gensim.models.KeyedVectors.load_word2vec_format(word2vec_path, binary=True)\n",
    "\n",
    "\"Download pre-trained model at https://fasttext.cc/docs/en/crawl-vectors.html\"\n",
    "\n",
    "fasttext = gensim.models.KeyedVectors.load_word2vec_format(\"/Users/Cescnghia/Documents/dataset/wiki.en/wiki.en.vec\")\n",
    "\n",
    "print('It took {s} mins to load 2 pretrained models'.format(s=(time.time()-now)/60))"
   ]
  },
  {
   "cell_type": "markdown",
   "metadata": {},
   "source": [
    "# 1  Dashboard"
   ]
  },
  {
   "cell_type": "code",
   "execution_count": 3,
   "metadata": {
    "collapsed": true
   },
   "outputs": [],
   "source": [
    "from dashboard import get_dashboard, update_dashboard, zoom_cluster"
   ]
  },
  {
   "cell_type": "code",
   "execution_count": 4,
   "metadata": {
    "collapsed": true
   },
   "outputs": [],
   "source": [
    "PATH_TO_DATA           = \"data/ref_w1q1.csv\"\n",
    "PATH_TO_NEW_DATA       = \"data/new_data.csv\"\n",
    "PATH_TO_STOPWORD       = \"data/english_most_frequency.csv\"\n",
    "PATH_TO_PROCESSED_TEXT = \"data/processed_data.csv\"\n",
    "PATH_TO_DASHBOARD_A    = \"data/dashboard_a.csv\"\n",
    "PATH_TO_DASHBOARD_B    = \"data/dashboard_b.csv\"\n",
    "PATH_TO_REPLACEMENT    = \"data/replacement.csv\"\n",
    "PATH_ZOOM_CLUSTER      = \"data/zoom_cluster.csv\"\n",
    "\n",
    "THRESHOLD_REPLACEMENT = 0.7\n",
    "THRESHOLD_TAKEOUT = 50\n",
    "NB_CLUSTER = 40\n",
    "SEED = 9016891\n",
    "TEXT_FIELD = \"text\""
   ]
  },
  {
   "cell_type": "code",
   "execution_count": 5,
   "metadata": {
    "collapsed": false
   },
   "outputs": [
    {
     "name": "stdout",
     "output_type": "stream",
     "text": [
      "Begin preprocessing stage\n",
      "Begin embedding stage\n",
      "Begin words replacement stage\n",
      "***  Before the replacement, we have 484 words\n",
      "***  After the replacement, we have 446 words\n",
      "Begin remove most frequency stage\n",
      "***  We removed 3 most frequency words\n",
      "Begin clustering stage\n",
      "Begin visualization stage\n",
      "Finish\n",
      "--------------------------------------\n",
      "It took 1.5028778632481894 mins to load 2 pretrained models\n"
     ]
    }
   ],
   "source": [
    "now = time.time()\n",
    "\n",
    "PATHS_1 = [PATH_TO_DATA,\n",
    "           PATH_TO_STOPWORD,\n",
    "           PATH_TO_PROCESSED_TEXT,\n",
    "           PATH_TO_REPLACEMENT,\n",
    "           PATH_TO_DASHBOARD_A,\n",
    "           PATH_TO_DASHBOARD_B]\n",
    "\n",
    "get_dashboard(PATHS_1, TEXT_FIELD, fasttext, NB_CLUSTER, THRESHOLD_REPLACEMENT, THRESHOLD_TAKEOUT, SEED)\n",
    "\n",
    "print('It took {s} mins to load 2 pretrained models'.format(s=(time.time()-now)/60))"
   ]
  },
  {
   "cell_type": "code",
   "execution_count": 6,
   "metadata": {
    "collapsed": false
   },
   "outputs": [
    {
     "data": {
      "text/html": [
       "<div>\n",
       "<style scoped>\n",
       "    .dataframe tbody tr th:only-of-type {\n",
       "        vertical-align: middle;\n",
       "    }\n",
       "\n",
       "    .dataframe tbody tr th {\n",
       "        vertical-align: top;\n",
       "    }\n",
       "\n",
       "    .dataframe thead th {\n",
       "        text-align: right;\n",
       "    }\n",
       "</style>\n",
       "<table border=\"1\" class=\"dataframe\">\n",
       "  <thead>\n",
       "    <tr style=\"text-align: right;\">\n",
       "      <th></th>\n",
       "      <th>text</th>\n",
       "      <th>standardized_text</th>\n",
       "      <th>processed_text</th>\n",
       "    </tr>\n",
       "  </thead>\n",
       "  <tbody>\n",
       "    <tr>\n",
       "      <th>0</th>\n",
       "      <td>The WISE simulations allowed the students to c...</td>\n",
       "      <td>the wise simulations allowed the students to c...</td>\n",
       "      <td>wise simulation allow student conceptualize ab...</td>\n",
       "    </tr>\n",
       "    <tr>\n",
       "      <th>1</th>\n",
       "      <td>The most effective aspects in wise activity we...</td>\n",
       "      <td>the most effective aspects in wise activity we...</td>\n",
       "      <td>effective aspect wise activity create spirit t...</td>\n",
       "    </tr>\n",
       "    <tr>\n",
       "      <th>2</th>\n",
       "      <td>WISE uses predict-observe-explain patterns wit...</td>\n",
       "      <td>wise uses predict observe explain patterns wit...</td>\n",
       "      <td>wise use predict observe explain pattern promp...</td>\n",
       "    </tr>\n",
       "  </tbody>\n",
       "</table>\n",
       "</div>"
      ],
      "text/plain": [
       "                                                text  \\\n",
       "0  The WISE simulations allowed the students to c...   \n",
       "1  The most effective aspects in wise activity we...   \n",
       "2  WISE uses predict-observe-explain patterns wit...   \n",
       "\n",
       "                                   standardized_text  \\\n",
       "0  the wise simulations allowed the students to c...   \n",
       "1  the most effective aspects in wise activity we...   \n",
       "2  wise uses predict observe explain patterns wit...   \n",
       "\n",
       "                                      processed_text  \n",
       "0  wise simulation allow student conceptualize ab...  \n",
       "1  effective aspect wise activity create spirit t...  \n",
       "2  wise use predict observe explain pattern promp...  "
      ]
     },
     "execution_count": 6,
     "metadata": {},
     "output_type": "execute_result"
    }
   ],
   "source": [
    "pd.read_csv(PATH_TO_PROCESSED_TEXT).head(3)"
   ]
  },
  {
   "cell_type": "code",
   "execution_count": 7,
   "metadata": {
    "collapsed": false
   },
   "outputs": [
    {
     "data": {
      "text/html": [
       "<div>\n",
       "<style scoped>\n",
       "    .dataframe tbody tr th:only-of-type {\n",
       "        vertical-align: middle;\n",
       "    }\n",
       "\n",
       "    .dataframe tbody tr th {\n",
       "        vertical-align: top;\n",
       "    }\n",
       "\n",
       "    .dataframe thead th {\n",
       "        text-align: right;\n",
       "    }\n",
       "</style>\n",
       "<table border=\"1\" class=\"dataframe\">\n",
       "  <thead>\n",
       "    <tr style=\"text-align: right;\">\n",
       "      <th></th>\n",
       "      <th>processed_text</th>\n",
       "      <th>count</th>\n",
       "      <th>pos</th>\n",
       "      <th>vect</th>\n",
       "      <th>x</th>\n",
       "      <th>y</th>\n",
       "      <th>cluster</th>\n",
       "      <th>cluster_center</th>\n",
       "      <th>distance_to_center</th>\n",
       "      <th>representative_cluster</th>\n",
       "      <th>wordnet</th>\n",
       "    </tr>\n",
       "  </thead>\n",
       "  <tbody>\n",
       "    <tr>\n",
       "      <th>0</th>\n",
       "      <td>ability</td>\n",
       "      <td>2</td>\n",
       "      <td>n</td>\n",
       "      <td>[-0.098041    0.1796     -0.57259     0.073026...</td>\n",
       "      <td>0.316990</td>\n",
       "      <td>-0.850608</td>\n",
       "      <td>25</td>\n",
       "      <td>[ 0.14279407 -0.72318218]</td>\n",
       "      <td>0.046581</td>\n",
       "      <td>False</td>\n",
       "      <td>ability</td>\n",
       "    </tr>\n",
       "    <tr>\n",
       "      <th>1</th>\n",
       "      <td>abundance</td>\n",
       "      <td>1</td>\n",
       "      <td>n</td>\n",
       "      <td>[-0.26207    0.1481    -0.046696   0.45521    ...</td>\n",
       "      <td>0.303217</td>\n",
       "      <td>0.020710</td>\n",
       "      <td>8</td>\n",
       "      <td>[0.14119948 0.03889222]</td>\n",
       "      <td>0.026580</td>\n",
       "      <td>False</td>\n",
       "      <td>make</td>\n",
       "    </tr>\n",
       "    <tr>\n",
       "      <th>2</th>\n",
       "      <td>accessibility</td>\n",
       "      <td>1</td>\n",
       "      <td>n</td>\n",
       "      <td>[-6.4332e-03  1.6794e-01  1.8712e-01  2.8707e-...</td>\n",
       "      <td>0.634029</td>\n",
       "      <td>-0.860086</td>\n",
       "      <td>14</td>\n",
       "      <td>[ 0.92551141 -0.94520642]</td>\n",
       "      <td>0.092207</td>\n",
       "      <td>False</td>\n",
       "      <td>handiness</td>\n",
       "    </tr>\n",
       "    <tr>\n",
       "      <th>3</th>\n",
       "      <td>accord</td>\n",
       "      <td>8</td>\n",
       "      <td>v</td>\n",
       "      <td>[-9.8114e-02 -2.4023e-01  1.5353e-01  3.1165e-...</td>\n",
       "      <td>-0.738842</td>\n",
       "      <td>-0.126853</td>\n",
       "      <td>5</td>\n",
       "      <td>[-0.78739523 -0.33021684]</td>\n",
       "      <td>0.043714</td>\n",
       "      <td>False</td>\n",
       "      <td>equal</td>\n",
       "    </tr>\n",
       "    <tr>\n",
       "      <th>4</th>\n",
       "      <td>accordance</td>\n",
       "      <td>1</td>\n",
       "      <td>n</td>\n",
       "      <td>[-0.33463   -0.25204    0.023466   0.20383   -...</td>\n",
       "      <td>-0.264342</td>\n",
       "      <td>-0.526631</td>\n",
       "      <td>3</td>\n",
       "      <td>[-0.3917422  -0.59346054]</td>\n",
       "      <td>0.020697</td>\n",
       "      <td>False</td>\n",
       "      <td>accord</td>\n",
       "    </tr>\n",
       "    <tr>\n",
       "      <th>5</th>\n",
       "      <td>acquaintance</td>\n",
       "      <td>6</td>\n",
       "      <td>n</td>\n",
       "      <td>[ 5.8095e-02  3.2111e-02 -3.5045e-01 -2.8337e-...</td>\n",
       "      <td>-0.974098</td>\n",
       "      <td>-0.058733</td>\n",
       "      <td>36</td>\n",
       "      <td>[-0.97475303  0.00865487]</td>\n",
       "      <td>0.004541</td>\n",
       "      <td>False</td>\n",
       "      <td>acquaintance</td>\n",
       "    </tr>\n",
       "    <tr>\n",
       "      <th>6</th>\n",
       "      <td>activitie</td>\n",
       "      <td>1</td>\n",
       "      <td>n</td>\n",
       "      <td>[-0.071888  -0.052625  -0.32589   -0.17648   -...</td>\n",
       "      <td>-0.240139</td>\n",
       "      <td>0.506274</td>\n",
       "      <td>1</td>\n",
       "      <td>[-0.19491367  0.63984511]</td>\n",
       "      <td>0.019886</td>\n",
       "      <td>False</td>\n",
       "      <td>communication</td>\n",
       "    </tr>\n",
       "  </tbody>\n",
       "</table>\n",
       "</div>"
      ],
      "text/plain": [
       "  processed_text  count pos  \\\n",
       "0        ability      2   n   \n",
       "1      abundance      1   n   \n",
       "2  accessibility      1   n   \n",
       "3         accord      8   v   \n",
       "4     accordance      1   n   \n",
       "5   acquaintance      6   n   \n",
       "6      activitie      1   n   \n",
       "\n",
       "                                                vect         x         y  \\\n",
       "0  [-0.098041    0.1796     -0.57259     0.073026...  0.316990 -0.850608   \n",
       "1  [-0.26207    0.1481    -0.046696   0.45521    ...  0.303217  0.020710   \n",
       "2  [-6.4332e-03  1.6794e-01  1.8712e-01  2.8707e-...  0.634029 -0.860086   \n",
       "3  [-9.8114e-02 -2.4023e-01  1.5353e-01  3.1165e-... -0.738842 -0.126853   \n",
       "4  [-0.33463   -0.25204    0.023466   0.20383   -... -0.264342 -0.526631   \n",
       "5  [ 5.8095e-02  3.2111e-02 -3.5045e-01 -2.8337e-... -0.974098 -0.058733   \n",
       "6  [-0.071888  -0.052625  -0.32589   -0.17648   -... -0.240139  0.506274   \n",
       "\n",
       "   cluster             cluster_center  distance_to_center  \\\n",
       "0       25  [ 0.14279407 -0.72318218]            0.046581   \n",
       "1        8    [0.14119948 0.03889222]            0.026580   \n",
       "2       14  [ 0.92551141 -0.94520642]            0.092207   \n",
       "3        5  [-0.78739523 -0.33021684]            0.043714   \n",
       "4        3  [-0.3917422  -0.59346054]            0.020697   \n",
       "5       36  [-0.97475303  0.00865487]            0.004541   \n",
       "6        1  [-0.19491367  0.63984511]            0.019886   \n",
       "\n",
       "   representative_cluster        wordnet  \n",
       "0                   False        ability  \n",
       "1                   False           make  \n",
       "2                   False      handiness  \n",
       "3                   False          equal  \n",
       "4                   False         accord  \n",
       "5                   False   acquaintance  \n",
       "6                   False  communication  "
      ]
     },
     "execution_count": 7,
     "metadata": {},
     "output_type": "execute_result"
    }
   ],
   "source": [
    "pd.read_csv(PATH_TO_DASHBOARD_B).head(7)"
   ]
  },
  {
   "cell_type": "code",
   "execution_count": 8,
   "metadata": {
    "collapsed": false
   },
   "outputs": [
    {
     "data": {
      "text/html": [
       "<div>\n",
       "<style scoped>\n",
       "    .dataframe tbody tr th:only-of-type {\n",
       "        vertical-align: middle;\n",
       "    }\n",
       "\n",
       "    .dataframe tbody tr th {\n",
       "        vertical-align: top;\n",
       "    }\n",
       "\n",
       "    .dataframe thead th {\n",
       "        text-align: right;\n",
       "    }\n",
       "</style>\n",
       "<table border=\"1\" class=\"dataframe\">\n",
       "  <thead>\n",
       "    <tr style=\"text-align: right;\">\n",
       "      <th></th>\n",
       "      <th>replaced_by</th>\n",
       "      <th>to_replace</th>\n",
       "    </tr>\n",
       "  </thead>\n",
       "  <tbody>\n",
       "    <tr>\n",
       "      <th>0</th>\n",
       "      <td>cause</td>\n",
       "      <td>['activate' 'activation']</td>\n",
       "    </tr>\n",
       "    <tr>\n",
       "      <th>1</th>\n",
       "      <td>cause</td>\n",
       "      <td>['activate' 'activation']</td>\n",
       "    </tr>\n",
       "    <tr>\n",
       "      <th>2</th>\n",
       "      <td>enables</td>\n",
       "      <td>['allows' 'enables']</td>\n",
       "    </tr>\n",
       "  </tbody>\n",
       "</table>\n",
       "</div>"
      ],
      "text/plain": [
       "  replaced_by                 to_replace\n",
       "0       cause  ['activate' 'activation']\n",
       "1       cause  ['activate' 'activation']\n",
       "2     enables       ['allows' 'enables']"
      ]
     },
     "execution_count": 8,
     "metadata": {},
     "output_type": "execute_result"
    }
   ],
   "source": [
    "pd.read_csv(PATH_TO_REPLACEMENT).head(3)"
   ]
  },
  {
   "cell_type": "code",
   "execution_count": null,
   "metadata": {
    "collapsed": true
   },
   "outputs": [],
   "source": []
  },
  {
   "cell_type": "code",
   "execution_count": 10,
   "metadata": {
    "collapsed": false
   },
   "outputs": [
    {
     "name": "stdout",
     "output_type": "stream",
     "text": [
      "Begin preprocessing stage\n",
      "Begin global stopwords removing stage\n",
      "Begin concatenate old and new data then groupby stage\n",
      "Begin embedding stage\n",
      "Begin words replacement stage\n",
      "***  Before the replacement, we have 447 words\n",
      "***  After the replacement, we have 446 words\n",
      "Begin remove local most frequency stage\n",
      "***  We removed 3 most frequency words\n",
      "Begin clustering stage\n",
      "Begin find concept stage\n",
      "It took 1.4321431001027425 mins to load 2 pretrained models\n"
     ]
    }
   ],
   "source": [
    "now = time.time()\n",
    "\n",
    "PATHS_2 = [PATH_TO_NEW_DATA,\n",
    "           PATH_TO_PROCESSED_TEXT ,\n",
    "           PATH_TO_DASHBOARD_A ,\n",
    "           PATH_TO_DASHBOARD_B ,\n",
    "           PATH_TO_REPLACEMENT ,\n",
    "           PATH_TO_STOPWORD]\n",
    "\n",
    "update_dashboard(PATHS_2, TEXT_FIELD, fasttext, NB_CLUSTER, THRESHOLD_REPLACEMENT, THRESHOLD_TAKEOUT, SEED)\n",
    "\n",
    "print('It took {s} mins to load 2 pretrained models'.format(s=(time.time()-now)/60))"
   ]
  },
  {
   "cell_type": "code",
   "execution_count": 11,
   "metadata": {
    "collapsed": false
   },
   "outputs": [
    {
     "data": {
      "text/html": [
       "<div>\n",
       "<style scoped>\n",
       "    .dataframe tbody tr th:only-of-type {\n",
       "        vertical-align: middle;\n",
       "    }\n",
       "\n",
       "    .dataframe tbody tr th {\n",
       "        vertical-align: top;\n",
       "    }\n",
       "\n",
       "    .dataframe thead th {\n",
       "        text-align: right;\n",
       "    }\n",
       "</style>\n",
       "<table border=\"1\" class=\"dataframe\">\n",
       "  <thead>\n",
       "    <tr style=\"text-align: right;\">\n",
       "      <th></th>\n",
       "      <th>text</th>\n",
       "      <th>standardized_text</th>\n",
       "      <th>processed_text</th>\n",
       "    </tr>\n",
       "  </thead>\n",
       "  <tbody>\n",
       "    <tr>\n",
       "      <th>0</th>\n",
       "      <td>The WISE simulations allowed the students to c...</td>\n",
       "      <td>the wise simulations allowed the students to c...</td>\n",
       "      <td>wise simulation allow student conceptualize ab...</td>\n",
       "    </tr>\n",
       "    <tr>\n",
       "      <th>1</th>\n",
       "      <td>The most effective aspects in wise activity we...</td>\n",
       "      <td>the most effective aspects in wise activity we...</td>\n",
       "      <td>effective aspect wise activity create spirit t...</td>\n",
       "    </tr>\n",
       "    <tr>\n",
       "      <th>2</th>\n",
       "      <td>WISE uses predict-observe-explain patterns wit...</td>\n",
       "      <td>wise uses predict observe explain patterns wit...</td>\n",
       "      <td>wise use predict observe explain pattern promp...</td>\n",
       "    </tr>\n",
       "  </tbody>\n",
       "</table>\n",
       "</div>"
      ],
      "text/plain": [
       "                                                text  \\\n",
       "0  The WISE simulations allowed the students to c...   \n",
       "1  The most effective aspects in wise activity we...   \n",
       "2  WISE uses predict-observe-explain patterns wit...   \n",
       "\n",
       "                                   standardized_text  \\\n",
       "0  the wise simulations allowed the students to c...   \n",
       "1  the most effective aspects in wise activity we...   \n",
       "2  wise uses predict observe explain patterns wit...   \n",
       "\n",
       "                                      processed_text  \n",
       "0  wise simulation allow student conceptualize ab...  \n",
       "1  effective aspect wise activity create spirit t...  \n",
       "2  wise use predict observe explain pattern promp...  "
      ]
     },
     "execution_count": 11,
     "metadata": {},
     "output_type": "execute_result"
    }
   ],
   "source": [
    "pd.read_csv(PATH_TO_PROCESSED_TEXT).head(3)"
   ]
  },
  {
   "cell_type": "code",
   "execution_count": 12,
   "metadata": {
    "collapsed": false
   },
   "outputs": [
    {
     "data": {
      "text/html": [
       "<div>\n",
       "<style scoped>\n",
       "    .dataframe tbody tr th:only-of-type {\n",
       "        vertical-align: middle;\n",
       "    }\n",
       "\n",
       "    .dataframe tbody tr th {\n",
       "        vertical-align: top;\n",
       "    }\n",
       "\n",
       "    .dataframe thead th {\n",
       "        text-align: right;\n",
       "    }\n",
       "</style>\n",
       "<table border=\"1\" class=\"dataframe\">\n",
       "  <thead>\n",
       "    <tr style=\"text-align: right;\">\n",
       "      <th></th>\n",
       "      <th>processed_text</th>\n",
       "      <th>count</th>\n",
       "      <th>pos</th>\n",
       "      <th>vect</th>\n",
       "      <th>x</th>\n",
       "      <th>y</th>\n",
       "      <th>cluster</th>\n",
       "      <th>cluster_center</th>\n",
       "      <th>distance_to_center</th>\n",
       "      <th>representative_cluster</th>\n",
       "      <th>wordnet</th>\n",
       "    </tr>\n",
       "  </thead>\n",
       "  <tbody>\n",
       "  </tbody>\n",
       "</table>\n",
       "</div>"
      ],
      "text/plain": [
       "Empty DataFrame\n",
       "Columns: [processed_text, count, pos, vect, x, y, cluster, cluster_center, distance_to_center, representative_cluster, wordnet]\n",
       "Index: []"
      ]
     },
     "execution_count": 12,
     "metadata": {},
     "output_type": "execute_result"
    }
   ],
   "source": [
    "normalised_df = pd.read_csv(PATH_TO_DASHBOARD_B).head(7)\n",
    "normalised_df[normalised_df['cluster']==7]"
   ]
  },
  {
   "cell_type": "code",
   "execution_count": 13,
   "metadata": {
    "collapsed": false
   },
   "outputs": [
    {
     "data": {
      "text/html": [
       "<div>\n",
       "<style scoped>\n",
       "    .dataframe tbody tr th:only-of-type {\n",
       "        vertical-align: middle;\n",
       "    }\n",
       "\n",
       "    .dataframe tbody tr th {\n",
       "        vertical-align: top;\n",
       "    }\n",
       "\n",
       "    .dataframe thead th {\n",
       "        text-align: right;\n",
       "    }\n",
       "</style>\n",
       "<table border=\"1\" class=\"dataframe\">\n",
       "  <thead>\n",
       "    <tr style=\"text-align: right;\">\n",
       "      <th></th>\n",
       "      <th>replaced_by</th>\n",
       "      <th>to_replace</th>\n",
       "    </tr>\n",
       "  </thead>\n",
       "  <tbody>\n",
       "    <tr>\n",
       "      <th>0</th>\n",
       "      <td>antibiotic</td>\n",
       "      <td>['amoxicillin' 'antibiotic']</td>\n",
       "    </tr>\n",
       "    <tr>\n",
       "      <th>1</th>\n",
       "      <td>antibiotic</td>\n",
       "      <td>['amoxicillin' 'antibiotic']</td>\n",
       "    </tr>\n",
       "  </tbody>\n",
       "</table>\n",
       "</div>"
      ],
      "text/plain": [
       "  replaced_by                    to_replace\n",
       "0  antibiotic  ['amoxicillin' 'antibiotic']\n",
       "1  antibiotic  ['amoxicillin' 'antibiotic']"
      ]
     },
     "execution_count": 13,
     "metadata": {},
     "output_type": "execute_result"
    }
   ],
   "source": [
    "pd.read_csv(PATH_TO_REPLACEMENT).head(3)"
   ]
  },
  {
   "cell_type": "code",
   "execution_count": 14,
   "metadata": {
    "collapsed": true
   },
   "outputs": [],
   "source": [
    "zoom_cluster(PATH_TO_DASHBOARD_B, 7, PATH_ZOOM_CLUSTER)"
   ]
  },
  {
   "cell_type": "code",
   "execution_count": null,
   "metadata": {
    "collapsed": true
   },
   "outputs": [],
   "source": []
  },
  {
   "cell_type": "code",
   "execution_count": null,
   "metadata": {
    "collapsed": true
   },
   "outputs": [],
   "source": []
  },
  {
   "cell_type": "code",
   "execution_count": null,
   "metadata": {
    "collapsed": true
   },
   "outputs": [],
   "source": []
  },
  {
   "cell_type": "code",
   "execution_count": null,
   "metadata": {
    "collapsed": true
   },
   "outputs": [],
   "source": []
  },
  {
   "cell_type": "code",
   "execution_count": null,
   "metadata": {
    "collapsed": true
   },
   "outputs": [],
   "source": []
  },
  {
   "cell_type": "code",
   "execution_count": null,
   "metadata": {
    "collapsed": true
   },
   "outputs": [],
   "source": []
  },
  {
   "cell_type": "code",
   "execution_count": null,
   "metadata": {
    "collapsed": true
   },
   "outputs": [],
   "source": []
  },
  {
   "cell_type": "markdown",
   "metadata": {},
   "source": [
    "# 2 matching against teacher’s concepts"
   ]
  },
  {
   "cell_type": "code",
   "execution_count": 4,
   "metadata": {
    "collapsed": false
   },
   "outputs": [],
   "source": [
    "from lsa import check_responses"
   ]
  },
  {
   "cell_type": "markdown",
   "metadata": {},
   "source": [
    "### 2.1 Reflection dataset (english)"
   ]
  },
  {
   "cell_type": "code",
   "execution_count": 2,
   "metadata": {
    "collapsed": true
   },
   "outputs": [],
   "source": [
    "PROF_EXPECTATION = \"experiment melt chocolate\"\n",
    "PROF_EXPECTATION += \" \"\n",
    "PATH_TO_DATA    = \"data/ref_w1q1.csv\"\n",
    "LATENT_SPACE = 60"
   ]
  },
  {
   "cell_type": "code",
   "execution_count": 3,
   "metadata": {
    "collapsed": false
   },
   "outputs": [
    {
     "data": {
      "text/html": [
       "<div>\n",
       "<style scoped>\n",
       "    .dataframe tbody tr th:only-of-type {\n",
       "        vertical-align: middle;\n",
       "    }\n",
       "\n",
       "    .dataframe tbody tr th {\n",
       "        vertical-align: top;\n",
       "    }\n",
       "\n",
       "    .dataframe thead th {\n",
       "        text-align: right;\n",
       "    }\n",
       "</style>\n",
       "<table border=\"1\" class=\"dataframe\">\n",
       "  <thead>\n",
       "    <tr style=\"text-align: right;\">\n",
       "      <th></th>\n",
       "      <th>text</th>\n",
       "    </tr>\n",
       "  </thead>\n",
       "  <tbody>\n",
       "    <tr>\n",
       "      <th>0</th>\n",
       "      <td>The WISE simulations allowed the students to c...</td>\n",
       "    </tr>\n",
       "    <tr>\n",
       "      <th>1</th>\n",
       "      <td>The most effective aspects in wise activity we...</td>\n",
       "    </tr>\n",
       "    <tr>\n",
       "      <th>2</th>\n",
       "      <td>WISE uses predict-observe-explain patterns wit...</td>\n",
       "    </tr>\n",
       "  </tbody>\n",
       "</table>\n",
       "</div>"
      ],
      "text/plain": [
       "                                                text\n",
       "0  The WISE simulations allowed the students to c...\n",
       "1  The most effective aspects in wise activity we...\n",
       "2  WISE uses predict-observe-explain patterns wit..."
      ]
     },
     "execution_count": 3,
     "metadata": {},
     "output_type": "execute_result"
    }
   ],
   "source": [
    "dataframe = pd.read_csv(PATH_TO_DATA)\n",
    "dataframe.head(3)"
   ]
  },
  {
   "cell_type": "code",
   "execution_count": 5,
   "metadata": {
    "collapsed": false
   },
   "outputs": [
    {
     "name": "stdout",
     "output_type": "stream",
     "text": [
      "There are 733 responses in 2040 significant terms\n",
      "['experiment', 'melt', 'chocolate']\n"
     ]
    }
   ],
   "source": [
    "data_frame, sim_scores = check_responses(dataframe, 'text', LATENT_SPACE, PROF_EXPECTATION)"
   ]
  },
  {
   "cell_type": "code",
   "execution_count": 19,
   "metadata": {
    "collapsed": false
   },
   "outputs": [
    {
     "data": {
      "text/html": [
       "<div>\n",
       "<style scoped>\n",
       "    .dataframe tbody tr th:only-of-type {\n",
       "        vertical-align: middle;\n",
       "    }\n",
       "\n",
       "    .dataframe tbody tr th {\n",
       "        vertical-align: top;\n",
       "    }\n",
       "\n",
       "    .dataframe thead th {\n",
       "        text-align: right;\n",
       "    }\n",
       "</style>\n",
       "<table border=\"1\" class=\"dataframe\">\n",
       "  <thead>\n",
       "    <tr style=\"text-align: right;\">\n",
       "      <th></th>\n",
       "      <th>text</th>\n",
       "      <th>standardized_text</th>\n",
       "      <th>processed_text</th>\n",
       "      <th>score</th>\n",
       "    </tr>\n",
       "  </thead>\n",
       "  <tbody>\n",
       "    <tr>\n",
       "      <th>0</th>\n",
       "      <td>The WISE simulations allowed the students to c...</td>\n",
       "      <td>the wise simulations allowed the students to c...</td>\n",
       "      <td>wise simulation allow student conceptualize ab...</td>\n",
       "      <td>0.0</td>\n",
       "    </tr>\n",
       "    <tr>\n",
       "      <th>1</th>\n",
       "      <td>The most effective aspects in wise activity we...</td>\n",
       "      <td>the most effective aspects in wise activity we...</td>\n",
       "      <td>effective aspect wise activity create spirit t...</td>\n",
       "      <td>0.0</td>\n",
       "    </tr>\n",
       "    <tr>\n",
       "      <th>2</th>\n",
       "      <td>WISE uses predict-observe-explain patterns wit...</td>\n",
       "      <td>wise uses predict observe explain patterns wit...</td>\n",
       "      <td>wise use predict observe explain pattern promp...</td>\n",
       "      <td>0.0</td>\n",
       "    </tr>\n",
       "    <tr>\n",
       "      <th>3</th>\n",
       "      <td>It appears that the interactive app allowed th...</td>\n",
       "      <td>it appears that the interactive app allowed th...</td>\n",
       "      <td>appear interactive app allow visualize science...</td>\n",
       "      <td>0.0</td>\n",
       "    </tr>\n",
       "    <tr>\n",
       "      <th>4</th>\n",
       "      <td>Students can make predictions and test them. T...</td>\n",
       "      <td>students can make predictions and test them. t...</td>\n",
       "      <td>student make prediction test work small group</td>\n",
       "      <td>0.0</td>\n",
       "    </tr>\n",
       "  </tbody>\n",
       "</table>\n",
       "</div>"
      ],
      "text/plain": [
       "                                                text  \\\n",
       "0  The WISE simulations allowed the students to c...   \n",
       "1  The most effective aspects in wise activity we...   \n",
       "2  WISE uses predict-observe-explain patterns wit...   \n",
       "3  It appears that the interactive app allowed th...   \n",
       "4  Students can make predictions and test them. T...   \n",
       "\n",
       "                                   standardized_text  \\\n",
       "0  the wise simulations allowed the students to c...   \n",
       "1  the most effective aspects in wise activity we...   \n",
       "2  wise uses predict observe explain patterns wit...   \n",
       "3  it appears that the interactive app allowed th...   \n",
       "4  students can make predictions and test them. t...   \n",
       "\n",
       "                                      processed_text  score  \n",
       "0  wise simulation allow student conceptualize ab...    0.0  \n",
       "1  effective aspect wise activity create spirit t...    0.0  \n",
       "2  wise use predict observe explain pattern promp...    0.0  \n",
       "3  appear interactive app allow visualize science...    0.0  \n",
       "4    student make prediction test work small group      0.0  "
      ]
     },
     "execution_count": 19,
     "metadata": {},
     "output_type": "execute_result"
    }
   ],
   "source": [
    "data_frame.head()"
   ]
  },
  {
   "cell_type": "code",
   "execution_count": 25,
   "metadata": {
    "collapsed": false
   },
   "outputs": [
    {
     "data": {
      "text/html": [
       "<div>\n",
       "<style scoped>\n",
       "    .dataframe tbody tr th:only-of-type {\n",
       "        vertical-align: middle;\n",
       "    }\n",
       "\n",
       "    .dataframe tbody tr th {\n",
       "        vertical-align: top;\n",
       "    }\n",
       "\n",
       "    .dataframe thead th {\n",
       "        text-align: right;\n",
       "    }\n",
       "</style>\n",
       "<table border=\"1\" class=\"dataframe\">\n",
       "  <thead>\n",
       "    <tr style=\"text-align: right;\">\n",
       "      <th></th>\n",
       "      <th>text</th>\n",
       "      <th>standardized_text</th>\n",
       "      <th>processed_text</th>\n",
       "      <th>score</th>\n",
       "    </tr>\n",
       "  </thead>\n",
       "  <tbody>\n",
       "    <tr>\n",
       "      <th>738</th>\n",
       "      <td>experiment melt chocolate</td>\n",
       "      <td>experiment melt chocolate</td>\n",
       "      <td>experiment melt chocolate</td>\n",
       "      <td>0.0</td>\n",
       "    </tr>\n",
       "    <tr>\n",
       "      <th>739</th>\n",
       "      <td>experiment melt chocolate</td>\n",
       "      <td>experiment melt chocolate</td>\n",
       "      <td>experiment melt chocolate</td>\n",
       "      <td>0.0</td>\n",
       "    </tr>\n",
       "    <tr>\n",
       "      <th>740</th>\n",
       "      <td>experiment melt chocolate</td>\n",
       "      <td>experiment melt chocolate</td>\n",
       "      <td>experiment melt chocolate</td>\n",
       "      <td>0.0</td>\n",
       "    </tr>\n",
       "    <tr>\n",
       "      <th>741</th>\n",
       "      <td>experiment melt chocolate</td>\n",
       "      <td>experiment melt chocolate</td>\n",
       "      <td>experiment melt chocolate</td>\n",
       "      <td>0.0</td>\n",
       "    </tr>\n",
       "    <tr>\n",
       "      <th>742</th>\n",
       "      <td>experiment melt chocolate</td>\n",
       "      <td>experiment melt chocolate</td>\n",
       "      <td>experiment melt chocolate</td>\n",
       "      <td>0.0</td>\n",
       "    </tr>\n",
       "  </tbody>\n",
       "</table>\n",
       "</div>"
      ],
      "text/plain": [
       "                           text           standardized_text  \\\n",
       "738  experiment melt chocolate   experiment melt chocolate    \n",
       "739  experiment melt chocolate   experiment melt chocolate    \n",
       "740  experiment melt chocolate   experiment melt chocolate    \n",
       "741  experiment melt chocolate   experiment melt chocolate    \n",
       "742  experiment melt chocolate   experiment melt chocolate    \n",
       "\n",
       "                 processed_text  score  \n",
       "738  experiment melt chocolate     0.0  \n",
       "739  experiment melt chocolate     0.0  \n",
       "740  experiment melt chocolate     0.0  \n",
       "741  experiment melt chocolate     0.0  \n",
       "742  experiment melt chocolate     0.0  "
      ]
     },
     "execution_count": 25,
     "metadata": {},
     "output_type": "execute_result"
    }
   ],
   "source": [
    "data_frame.tail()"
   ]
  },
  {
   "cell_type": "code",
   "execution_count": 20,
   "metadata": {
    "collapsed": false
   },
   "outputs": [
    {
     "data": {
      "text/plain": [
       "array([[ 1.        ,  0.1740994 ,  0.37540433, ...,  0.00222552,\n",
       "         0.00222552,  0.00222552],\n",
       "       [ 0.1740994 ,  1.        ,  0.3720858 , ...,  0.00163376,\n",
       "         0.00163376,  0.00163376],\n",
       "       [ 0.37540433,  0.3720858 ,  1.        , ..., -0.006818  ,\n",
       "        -0.006818  , -0.006818  ],\n",
       "       ...,\n",
       "       [ 0.00222552,  0.00163376, -0.006818  , ...,  1.        ,\n",
       "         1.        ,  1.        ],\n",
       "       [ 0.00222552,  0.00163376, -0.006818  , ...,  1.        ,\n",
       "         1.        ,  1.        ],\n",
       "       [ 0.00222552,  0.00163376, -0.006818  , ...,  1.        ,\n",
       "         1.        ,  1.        ]])"
      ]
     },
     "execution_count": 20,
     "metadata": {},
     "output_type": "execute_result"
    }
   ],
   "source": [
    "sim_scores"
   ]
  },
  {
   "cell_type": "markdown",
   "metadata": {},
   "source": [
    "### 2.2 Statistic dataset (french)"
   ]
  },
  {
   "cell_type": "code",
   "execution_count": null,
   "metadata": {
    "collapsed": true
   },
   "outputs": [],
   "source": []
  },
  {
   "cell_type": "code",
   "execution_count": 21,
   "metadata": {
    "collapsed": false
   },
   "outputs": [],
   "source": [
    "POS_JAR = \"data/stanford-postagger-full-2017-06-09/stanford-postagger-3.8.0.jar\"\n",
    "POS_MODEL = \"data/stanford-postagger-full-2017-06-09/models/french.tagger\"\n",
    "\n",
    "PROF_EXPECTATION_FRENCH = \"Il faut utiliser la loi de poisson\"\n",
    "PROF_EXPECTATION_FRENCH += \" ou poisson distribution\"\n",
    "PATH_TO_DATA    = 'data/data2.tsv'\n",
    "FRENCH_LATENT_SPACE = 20"
   ]
  },
  {
   "cell_type": "code",
   "execution_count": 22,
   "metadata": {
    "collapsed": false
   },
   "outputs": [
    {
     "data": {
      "text/html": [
       "<div>\n",
       "<style scoped>\n",
       "    .dataframe tbody tr th:only-of-type {\n",
       "        vertical-align: middle;\n",
       "    }\n",
       "\n",
       "    .dataframe tbody tr th {\n",
       "        vertical-align: top;\n",
       "    }\n",
       "\n",
       "    .dataframe thead th {\n",
       "        text-align: right;\n",
       "    }\n",
       "</style>\n",
       "<table border=\"1\" class=\"dataframe\">\n",
       "  <thead>\n",
       "    <tr style=\"text-align: right;\">\n",
       "      <th></th>\n",
       "      <th>text</th>\n",
       "    </tr>\n",
       "  </thead>\n",
       "  <tbody>\n",
       "    <tr>\n",
       "      <th>0</th>\n",
       "      <td>On compte les clients du fitness qui viennent...</td>\n",
       "    </tr>\n",
       "    <tr>\n",
       "      <th>1</th>\n",
       "      <td>- Calculer le nombre d'étudiants libre dans ce...</td>\n",
       "    </tr>\n",
       "    <tr>\n",
       "      <th>2</th>\n",
       "      <td>-Un compteur à l’entrée qui permet de compter ...</td>\n",
       "    </tr>\n",
       "    <tr>\n",
       "      <th>3</th>\n",
       "      <td>-placer un portique qui laisse passer 1 person...</td>\n",
       "    </tr>\n",
       "    <tr>\n",
       "      <th>4</th>\n",
       "      <td>Afin d'estimer au mieux le nombre de personne,...</td>\n",
       "    </tr>\n",
       "    <tr>\n",
       "      <th>5</th>\n",
       "      <td>Afin de compter au mieux le nombre de personne...</td>\n",
       "    </tr>\n",
       "    <tr>\n",
       "      <th>6</th>\n",
       "      <td>AfinUne porte avec une carte permettrai de com...</td>\n",
       "    </tr>\n",
       "  </tbody>\n",
       "</table>\n",
       "</div>"
      ],
      "text/plain": [
       "                                                text\n",
       "0   On compte les clients du fitness qui viennent...\n",
       "1  - Calculer le nombre d'étudiants libre dans ce...\n",
       "2  -Un compteur à l’entrée qui permet de compter ...\n",
       "3  -placer un portique qui laisse passer 1 person...\n",
       "4  Afin d'estimer au mieux le nombre de personne,...\n",
       "5  Afin de compter au mieux le nombre de personne...\n",
       "6  AfinUne porte avec une carte permettrai de com..."
      ]
     },
     "execution_count": 22,
     "metadata": {},
     "output_type": "execute_result"
    }
   ],
   "source": [
    "french = pd.read_csv(PATH_TO_DATA, header = None, sep = '\\t', encoding = \"utf-8\")\n",
    "french.columns = ['text']\n",
    "french.head(7)"
   ]
  },
  {
   "cell_type": "code",
   "execution_count": 23,
   "metadata": {
    "collapsed": false
   },
   "outputs": [
    {
     "name": "stderr",
     "output_type": "stream",
     "text": [
      "/Users/Cescnghia/Applications/anaconda/lib/python3.6/site-packages/nltk/tag/stanford.py:149: DeprecationWarning: \n",
      "The StanfordTokenizer will be deprecated in version 3.2.5.\n",
      "Please use \u001b[91mnltk.tag.corenlp.CoreNLPPOSTagger\u001b[0m or \u001b[91mnltk.tag.corenlp.CoreNLPNERTagger\u001b[0m instead.\n",
      "  super(StanfordPOSTagger, self).__init__(*args, **kwargs)\n"
     ]
    },
    {
     "ename": "KeyboardInterrupt",
     "evalue": "",
     "output_type": "error",
     "traceback": [
      "\u001b[0;31m---------------------------------------------------------------------------\u001b[0m",
      "\u001b[0;31mKeyboardInterrupt\u001b[0m                         Traceback (most recent call last)",
      "\u001b[0;32m<ipython-input-23-451235d63108>\u001b[0m in \u001b[0;36m<module>\u001b[0;34m()\u001b[0m\n\u001b[1;32m      4\u001b[0m \u001b[0mprofAnswer\u001b[0m \u001b[0;34m+=\u001b[0m \u001b[0;34m\" ou poisson distribution\"\u001b[0m\u001b[0;34m\u001b[0m\u001b[0m\n\u001b[1;32m      5\u001b[0m \u001b[0;34m\u001b[0m\u001b[0m\n\u001b[0;32m----> 6\u001b[0;31m \u001b[0mfrench\u001b[0m\u001b[0;34m,\u001b[0m \u001b[0mfrench_sim_scores\u001b[0m \u001b[0;34m=\u001b[0m \u001b[0mcheck_responses\u001b[0m\u001b[0;34m(\u001b[0m\u001b[0mfrench\u001b[0m\u001b[0;34m,\u001b[0m \u001b[0;34m'text'\u001b[0m\u001b[0;34m,\u001b[0m \u001b[0mFRENCH_LATENT_SPACE\u001b[0m\u001b[0;34m,\u001b[0m \u001b[0mPROF_EXPECTATION_FRENCH\u001b[0m\u001b[0;34m,\u001b[0m \u001b[0mPOS_JAR\u001b[0m\u001b[0;34m,\u001b[0m \u001b[0mPOS_MODEL\u001b[0m\u001b[0;34m,\u001b[0m \u001b[0menglish\u001b[0m\u001b[0;34m=\u001b[0m\u001b[0;32mFalse\u001b[0m\u001b[0;34m)\u001b[0m\u001b[0;34m\u001b[0m\u001b[0m\n\u001b[0m\u001b[1;32m      7\u001b[0m \u001b[0;34m\u001b[0m\u001b[0m\n\u001b[1;32m      8\u001b[0m \u001b[0mprint\u001b[0m\u001b[0;34m(\u001b[0m\u001b[0;34m'It took {s} mins to run this method'\u001b[0m\u001b[0;34m.\u001b[0m\u001b[0mformat\u001b[0m\u001b[0;34m(\u001b[0m\u001b[0ms\u001b[0m\u001b[0;34m=\u001b[0m\u001b[0;34m(\u001b[0m\u001b[0mtime\u001b[0m\u001b[0;34m.\u001b[0m\u001b[0mtime\u001b[0m\u001b[0;34m(\u001b[0m\u001b[0;34m)\u001b[0m\u001b[0;34m-\u001b[0m\u001b[0mnow\u001b[0m\u001b[0;34m)\u001b[0m\u001b[0;34m/\u001b[0m\u001b[0;36m60\u001b[0m\u001b[0;34m)\u001b[0m\u001b[0;34m)\u001b[0m\u001b[0;34m\u001b[0m\u001b[0m\n",
      "\u001b[0;32m/Users/Cescnghia/Google Drive/Master IV/project/lsa.py\u001b[0m in \u001b[0;36mcheck_responses\u001b[0;34m(df, text_field, latentSpace, yourConcept, POS_JAR, POS_MODEL, english)\u001b[0m\n\u001b[1;32m     45\u001b[0m     \u001b[0;32melse\u001b[0m\u001b[0;34m:\u001b[0m\u001b[0;34m\u001b[0m\u001b[0m\n\u001b[1;32m     46\u001b[0m         \u001b[0mdf\u001b[0m \u001b[0;34m=\u001b[0m \u001b[0mfrench_standardize_text\u001b[0m\u001b[0;34m(\u001b[0m\u001b[0mdf\u001b[0m\u001b[0;34m,\u001b[0m \u001b[0mtext_field\u001b[0m\u001b[0;34m)\u001b[0m\u001b[0;34m\u001b[0m\u001b[0m\n\u001b[0;32m---> 47\u001b[0;31m         \u001b[0mdf\u001b[0m \u001b[0;34m=\u001b[0m \u001b[0mfrench_processing_text\u001b[0m\u001b[0;34m(\u001b[0m\u001b[0mdf\u001b[0m\u001b[0;34m,\u001b[0m \u001b[0;34m'standardized_text'\u001b[0m\u001b[0;34m,\u001b[0m \u001b[0mPOS_JAR\u001b[0m\u001b[0;34m,\u001b[0m \u001b[0mPOS_MODEL\u001b[0m\u001b[0;34m)\u001b[0m\u001b[0;34m\u001b[0m\u001b[0m\n\u001b[0m\u001b[1;32m     48\u001b[0m \u001b[0;34m\u001b[0m\u001b[0m\n\u001b[1;32m     49\u001b[0m     \u001b[0;34m\"Students' response scores\"\u001b[0m\u001b[0;34m\u001b[0m\u001b[0m\n",
      "\u001b[0;32m/Users/Cescnghia/Google Drive/Master IV/project/french_preprocessing.py\u001b[0m in \u001b[0;36mfrench_processing_text\u001b[0;34m(df, text_field, POS_JAR, POS_MODEL)\u001b[0m\n\u001b[1;32m     81\u001b[0m         \u001b[0mnew_sentences\u001b[0m \u001b[0;34m=\u001b[0m \u001b[0;34m''\u001b[0m\u001b[0;34m\u001b[0m\u001b[0m\n\u001b[1;32m     82\u001b[0m         \u001b[0;32mfor\u001b[0m \u001b[0msentence\u001b[0m \u001b[0;32min\u001b[0m \u001b[0mtext\u001b[0m\u001b[0;34m.\u001b[0m\u001b[0msplit\u001b[0m\u001b[0;34m(\u001b[0m\u001b[0;34m'.'\u001b[0m\u001b[0;34m)\u001b[0m\u001b[0;34m:\u001b[0m \u001b[0;31m# Treat one sentence at a time. Why ? because we're playing with POS\u001b[0m\u001b[0;34m\u001b[0m\u001b[0m\n\u001b[0;32m---> 83\u001b[0;31m             \u001b[0mprocessed_sentence\u001b[0m \u001b[0;34m=\u001b[0m \u001b[0mfrench_processing_sentence\u001b[0m\u001b[0;34m(\u001b[0m\u001b[0msentence\u001b[0m\u001b[0;34m,\u001b[0m \u001b[0mtokenizer\u001b[0m\u001b[0;34m,\u001b[0m \u001b[0mpos_tagger\u001b[0m\u001b[0;34m,\u001b[0m \u001b[0mlemmatizer\u001b[0m\u001b[0;34m,\u001b[0m \u001b[0mstop\u001b[0m\u001b[0;34m)\u001b[0m\u001b[0;34m\u001b[0m\u001b[0m\n\u001b[0m\u001b[1;32m     84\u001b[0m             \u001b[0mnew_sentences\u001b[0m \u001b[0;34m+=\u001b[0m \u001b[0;34m' '\u001b[0m\u001b[0;34m.\u001b[0m\u001b[0mjoin\u001b[0m\u001b[0;34m(\u001b[0m\u001b[0mprocessed_sentence\u001b[0m\u001b[0;34m)\u001b[0m \u001b[0;34m+\u001b[0m \u001b[0;34m' '\u001b[0m\u001b[0;34m\u001b[0m\u001b[0m\n\u001b[1;32m     85\u001b[0m         \u001b[0mnew_text\u001b[0m\u001b[0;34m.\u001b[0m\u001b[0mappend\u001b[0m\u001b[0;34m(\u001b[0m\u001b[0mnew_sentences\u001b[0m\u001b[0;34m)\u001b[0m\u001b[0;34m\u001b[0m\u001b[0m\n",
      "\u001b[0;32m/Users/Cescnghia/Google Drive/Master IV/project/french_preprocessing.py\u001b[0m in \u001b[0;36mfrench_processing_sentence\u001b[0;34m(text, tokenizer, pos_tagger, lemmatizer, stop)\u001b[0m\n\u001b[1;32m     57\u001b[0m     \u001b[0mnew_text\u001b[0m \u001b[0;34m=\u001b[0m \u001b[0mtokenizer\u001b[0m\u001b[0;34m.\u001b[0m\u001b[0mtokenize\u001b[0m\u001b[0;34m(\u001b[0m\u001b[0mtext\u001b[0m\u001b[0;34m)\u001b[0m\u001b[0;34m\u001b[0m\u001b[0m\n\u001b[1;32m     58\u001b[0m     \u001b[0;34m\"Lemmatization\"\u001b[0m\u001b[0;34m\u001b[0m\u001b[0m\n\u001b[0;32m---> 59\u001b[0;31m     \u001b[0mtokens_pos\u001b[0m \u001b[0;34m=\u001b[0m \u001b[0mpos_tagger\u001b[0m\u001b[0;34m.\u001b[0m\u001b[0mtag\u001b[0m\u001b[0;34m(\u001b[0m\u001b[0mnew_text\u001b[0m\u001b[0;34m)\u001b[0m\u001b[0;34m\u001b[0m\u001b[0m\n\u001b[0m\u001b[1;32m     60\u001b[0m     \u001b[0mtokens_pos\u001b[0m \u001b[0;34m=\u001b[0m \u001b[0;34m[\u001b[0m\u001b[0;34m(\u001b[0m\u001b[0mw\u001b[0m\u001b[0;34m,\u001b[0m\u001b[0mget_french_pos\u001b[0m\u001b[0;34m(\u001b[0m\u001b[0mp\u001b[0m\u001b[0;34m)\u001b[0m\u001b[0;34m)\u001b[0m \u001b[0;32mfor\u001b[0m \u001b[0;34m(\u001b[0m\u001b[0mw\u001b[0m\u001b[0;34m,\u001b[0m\u001b[0mp\u001b[0m\u001b[0;34m)\u001b[0m \u001b[0;32min\u001b[0m \u001b[0mtokens_pos\u001b[0m\u001b[0;34m]\u001b[0m\u001b[0;34m\u001b[0m\u001b[0m\n\u001b[1;32m     61\u001b[0m     \u001b[0mnew_text\u001b[0m \u001b[0;34m=\u001b[0m \u001b[0;34m[\u001b[0m\u001b[0mlemmatizer\u001b[0m\u001b[0;34m.\u001b[0m\u001b[0mlemmatize\u001b[0m\u001b[0;34m(\u001b[0m\u001b[0mw\u001b[0m\u001b[0;34m,\u001b[0m \u001b[0mpos\u001b[0m\u001b[0;34m=\u001b[0m\u001b[0mp\u001b[0m\u001b[0;34m)\u001b[0m \u001b[0;32mfor\u001b[0m \u001b[0;34m(\u001b[0m\u001b[0mw\u001b[0m\u001b[0;34m,\u001b[0m\u001b[0mp\u001b[0m\u001b[0;34m)\u001b[0m \u001b[0;32min\u001b[0m \u001b[0mtokens_pos\u001b[0m \u001b[0;32mif\u001b[0m \u001b[0mp\u001b[0m \u001b[0;34m!=\u001b[0m \u001b[0;32mNone\u001b[0m\u001b[0;34m]\u001b[0m\u001b[0;34m\u001b[0m\u001b[0m\n",
      "\u001b[0;32m/Users/Cescnghia/Applications/anaconda/lib/python3.6/site-packages/nltk/tag/stanford.py\u001b[0m in \u001b[0;36mtag\u001b[0;34m(self, tokens)\u001b[0m\n\u001b[1;32m     82\u001b[0m     \u001b[0;32mdef\u001b[0m \u001b[0mtag\u001b[0m\u001b[0;34m(\u001b[0m\u001b[0mself\u001b[0m\u001b[0;34m,\u001b[0m \u001b[0mtokens\u001b[0m\u001b[0;34m)\u001b[0m\u001b[0;34m:\u001b[0m\u001b[0;34m\u001b[0m\u001b[0m\n\u001b[1;32m     83\u001b[0m         \u001b[0;31m# This function should return list of tuple rather than list of list\u001b[0m\u001b[0;34m\u001b[0m\u001b[0;34m\u001b[0m\u001b[0m\n\u001b[0;32m---> 84\u001b[0;31m         \u001b[0;32mreturn\u001b[0m \u001b[0msum\u001b[0m\u001b[0;34m(\u001b[0m\u001b[0mself\u001b[0m\u001b[0;34m.\u001b[0m\u001b[0mtag_sents\u001b[0m\u001b[0;34m(\u001b[0m\u001b[0;34m[\u001b[0m\u001b[0mtokens\u001b[0m\u001b[0;34m]\u001b[0m\u001b[0;34m)\u001b[0m\u001b[0;34m,\u001b[0m \u001b[0;34m[\u001b[0m\u001b[0;34m]\u001b[0m\u001b[0;34m)\u001b[0m\u001b[0;34m\u001b[0m\u001b[0m\n\u001b[0m\u001b[1;32m     85\u001b[0m \u001b[0;34m\u001b[0m\u001b[0m\n\u001b[1;32m     86\u001b[0m     \u001b[0;32mdef\u001b[0m \u001b[0mtag_sents\u001b[0m\u001b[0;34m(\u001b[0m\u001b[0mself\u001b[0m\u001b[0;34m,\u001b[0m \u001b[0msentences\u001b[0m\u001b[0;34m)\u001b[0m\u001b[0;34m:\u001b[0m\u001b[0;34m\u001b[0m\u001b[0m\n",
      "\u001b[0;32m/Users/Cescnghia/Applications/anaconda/lib/python3.6/site-packages/nltk/tag/stanford.py\u001b[0m in \u001b[0;36mtag_sents\u001b[0;34m(self, sentences)\u001b[0m\n\u001b[1;32m    105\u001b[0m         \u001b[0;31m# Run the tagger and get the output\u001b[0m\u001b[0;34m\u001b[0m\u001b[0;34m\u001b[0m\u001b[0m\n\u001b[1;32m    106\u001b[0m         stanpos_output, _stderr = java(cmd, classpath=self._stanford_jar,\n\u001b[0;32m--> 107\u001b[0;31m                                        stdout=PIPE, stderr=PIPE)\n\u001b[0m\u001b[1;32m    108\u001b[0m         \u001b[0mstanpos_output\u001b[0m \u001b[0;34m=\u001b[0m \u001b[0mstanpos_output\u001b[0m\u001b[0;34m.\u001b[0m\u001b[0mdecode\u001b[0m\u001b[0;34m(\u001b[0m\u001b[0mencoding\u001b[0m\u001b[0;34m)\u001b[0m\u001b[0;34m\u001b[0m\u001b[0m\n\u001b[1;32m    109\u001b[0m \u001b[0;34m\u001b[0m\u001b[0m\n",
      "\u001b[0;32m/Users/Cescnghia/Applications/anaconda/lib/python3.6/site-packages/nltk/__init__.py\u001b[0m in \u001b[0;36mjava\u001b[0;34m(cmd, classpath, stdin, stdout, stderr, blocking)\u001b[0m\n\u001b[1;32m    129\u001b[0m     \u001b[0mp\u001b[0m \u001b[0;34m=\u001b[0m \u001b[0msubprocess\u001b[0m\u001b[0;34m.\u001b[0m\u001b[0mPopen\u001b[0m\u001b[0;34m(\u001b[0m\u001b[0mcmd\u001b[0m\u001b[0;34m,\u001b[0m \u001b[0mstdin\u001b[0m\u001b[0;34m=\u001b[0m\u001b[0mstdin\u001b[0m\u001b[0;34m,\u001b[0m \u001b[0mstdout\u001b[0m\u001b[0;34m=\u001b[0m\u001b[0mstdout\u001b[0m\u001b[0;34m,\u001b[0m \u001b[0mstderr\u001b[0m\u001b[0;34m=\u001b[0m\u001b[0mstderr\u001b[0m\u001b[0;34m)\u001b[0m\u001b[0;34m\u001b[0m\u001b[0m\n\u001b[1;32m    130\u001b[0m     \u001b[0;32mif\u001b[0m \u001b[0;32mnot\u001b[0m \u001b[0mblocking\u001b[0m\u001b[0;34m:\u001b[0m \u001b[0;32mreturn\u001b[0m \u001b[0mp\u001b[0m\u001b[0;34m\u001b[0m\u001b[0m\n\u001b[0;32m--> 131\u001b[0;31m     \u001b[0;34m(\u001b[0m\u001b[0mstdout\u001b[0m\u001b[0;34m,\u001b[0m \u001b[0mstderr\u001b[0m\u001b[0;34m)\u001b[0m \u001b[0;34m=\u001b[0m \u001b[0mp\u001b[0m\u001b[0;34m.\u001b[0m\u001b[0mcommunicate\u001b[0m\u001b[0;34m(\u001b[0m\u001b[0;34m)\u001b[0m\u001b[0;34m\u001b[0m\u001b[0m\n\u001b[0m\u001b[1;32m    132\u001b[0m \u001b[0;34m\u001b[0m\u001b[0m\n\u001b[1;32m    133\u001b[0m     \u001b[0;31m# Check the return code.\u001b[0m\u001b[0;34m\u001b[0m\u001b[0;34m\u001b[0m\u001b[0m\n",
      "\u001b[0;32m/Users/Cescnghia/Applications/anaconda/lib/python3.6/subprocess.py\u001b[0m in \u001b[0;36mcommunicate\u001b[0;34m(self, input, timeout)\u001b[0m\n\u001b[1;32m    834\u001b[0m \u001b[0;34m\u001b[0m\u001b[0m\n\u001b[1;32m    835\u001b[0m             \u001b[0;32mtry\u001b[0m\u001b[0;34m:\u001b[0m\u001b[0;34m\u001b[0m\u001b[0m\n\u001b[0;32m--> 836\u001b[0;31m                 \u001b[0mstdout\u001b[0m\u001b[0;34m,\u001b[0m \u001b[0mstderr\u001b[0m \u001b[0;34m=\u001b[0m \u001b[0mself\u001b[0m\u001b[0;34m.\u001b[0m\u001b[0m_communicate\u001b[0m\u001b[0;34m(\u001b[0m\u001b[0minput\u001b[0m\u001b[0;34m,\u001b[0m \u001b[0mendtime\u001b[0m\u001b[0;34m,\u001b[0m \u001b[0mtimeout\u001b[0m\u001b[0;34m)\u001b[0m\u001b[0;34m\u001b[0m\u001b[0m\n\u001b[0m\u001b[1;32m    837\u001b[0m             \u001b[0;32mfinally\u001b[0m\u001b[0;34m:\u001b[0m\u001b[0;34m\u001b[0m\u001b[0m\n\u001b[1;32m    838\u001b[0m                 \u001b[0mself\u001b[0m\u001b[0;34m.\u001b[0m\u001b[0m_communication_started\u001b[0m \u001b[0;34m=\u001b[0m \u001b[0;32mTrue\u001b[0m\u001b[0;34m\u001b[0m\u001b[0m\n",
      "\u001b[0;32m/Users/Cescnghia/Applications/anaconda/lib/python3.6/subprocess.py\u001b[0m in \u001b[0;36m_communicate\u001b[0;34m(self, input, endtime, orig_timeout)\u001b[0m\n\u001b[1;32m   1491\u001b[0m                         \u001b[0;32mraise\u001b[0m \u001b[0mTimeoutExpired\u001b[0m\u001b[0;34m(\u001b[0m\u001b[0mself\u001b[0m\u001b[0;34m.\u001b[0m\u001b[0margs\u001b[0m\u001b[0;34m,\u001b[0m \u001b[0morig_timeout\u001b[0m\u001b[0;34m)\u001b[0m\u001b[0;34m\u001b[0m\u001b[0m\n\u001b[1;32m   1492\u001b[0m \u001b[0;34m\u001b[0m\u001b[0m\n\u001b[0;32m-> 1493\u001b[0;31m                     \u001b[0mready\u001b[0m \u001b[0;34m=\u001b[0m \u001b[0mselector\u001b[0m\u001b[0;34m.\u001b[0m\u001b[0mselect\u001b[0m\u001b[0;34m(\u001b[0m\u001b[0mtimeout\u001b[0m\u001b[0;34m)\u001b[0m\u001b[0;34m\u001b[0m\u001b[0m\n\u001b[0m\u001b[1;32m   1494\u001b[0m                     \u001b[0mself\u001b[0m\u001b[0;34m.\u001b[0m\u001b[0m_check_timeout\u001b[0m\u001b[0;34m(\u001b[0m\u001b[0mendtime\u001b[0m\u001b[0;34m,\u001b[0m \u001b[0morig_timeout\u001b[0m\u001b[0;34m)\u001b[0m\u001b[0;34m\u001b[0m\u001b[0m\n\u001b[1;32m   1495\u001b[0m \u001b[0;34m\u001b[0m\u001b[0m\n",
      "\u001b[0;32m/Users/Cescnghia/Applications/anaconda/lib/python3.6/selectors.py\u001b[0m in \u001b[0;36mselect\u001b[0;34m(self, timeout)\u001b[0m\n\u001b[1;32m    374\u001b[0m             \u001b[0mready\u001b[0m \u001b[0;34m=\u001b[0m \u001b[0;34m[\u001b[0m\u001b[0;34m]\u001b[0m\u001b[0;34m\u001b[0m\u001b[0m\n\u001b[1;32m    375\u001b[0m             \u001b[0;32mtry\u001b[0m\u001b[0;34m:\u001b[0m\u001b[0;34m\u001b[0m\u001b[0m\n\u001b[0;32m--> 376\u001b[0;31m                 \u001b[0mfd_event_list\u001b[0m \u001b[0;34m=\u001b[0m \u001b[0mself\u001b[0m\u001b[0;34m.\u001b[0m\u001b[0m_poll\u001b[0m\u001b[0;34m.\u001b[0m\u001b[0mpoll\u001b[0m\u001b[0;34m(\u001b[0m\u001b[0mtimeout\u001b[0m\u001b[0;34m)\u001b[0m\u001b[0;34m\u001b[0m\u001b[0m\n\u001b[0m\u001b[1;32m    377\u001b[0m             \u001b[0;32mexcept\u001b[0m \u001b[0mInterruptedError\u001b[0m\u001b[0;34m:\u001b[0m\u001b[0;34m\u001b[0m\u001b[0m\n\u001b[1;32m    378\u001b[0m                 \u001b[0;32mreturn\u001b[0m \u001b[0mready\u001b[0m\u001b[0;34m\u001b[0m\u001b[0m\n",
      "\u001b[0;31mKeyboardInterrupt\u001b[0m: "
     ]
    }
   ],
   "source": [
    "now = time.time()\n",
    "\n",
    "profAnswer = \"Il faut utiliser la loi de poisson\"\n",
    "profAnswer += \" ou poisson distribution\"\n",
    "\n",
    "french, french_sim_scores = check_responses(french, 'text', FRENCH_LATENT_SPACE, PROF_EXPECTATION_FRENCH, POS_JAR, POS_MODEL, english=False)\n",
    "\n",
    "print('It took {s} mins to run this method'.format(s=(time.time()-now)/60))"
   ]
  },
  {
   "cell_type": "code",
   "execution_count": null,
   "metadata": {
    "collapsed": false
   },
   "outputs": [],
   "source": [
    "french.head(7)"
   ]
  },
  {
   "cell_type": "code",
   "execution_count": null,
   "metadata": {
    "collapsed": false
   },
   "outputs": [],
   "source": [
    "french_sim_scores"
   ]
  },
  {
   "cell_type": "code",
   "execution_count": null,
   "metadata": {
    "collapsed": false
   },
   "outputs": [],
   "source": [
    "french['score'].nlargest(11)"
   ]
  },
  {
   "cell_type": "code",
   "execution_count": null,
   "metadata": {
    "collapsed": false
   },
   "outputs": [],
   "source": [
    "french.iloc[145]['text']"
   ]
  },
  {
   "cell_type": "markdown",
   "metadata": {
    "collapsed": true
   },
   "source": [
    "# 3 Tensorflow Hub"
   ]
  },
  {
   "cell_type": "code",
   "execution_count": 8,
   "metadata": {
    "collapsed": true
   },
   "outputs": [],
   "source": [
    "import tensorflow as tf\n",
    "import tensorflow_hub as hub\n",
    "from sklearn.metrics.pairwise import cosine_similarity"
   ]
  },
  {
   "cell_type": "code",
   "execution_count": 9,
   "metadata": {
    "collapsed": false
   },
   "outputs": [
    {
     "data": {
      "text/html": [
       "<div>\n",
       "<style scoped>\n",
       "    .dataframe tbody tr th:only-of-type {\n",
       "        vertical-align: middle;\n",
       "    }\n",
       "\n",
       "    .dataframe tbody tr th {\n",
       "        vertical-align: top;\n",
       "    }\n",
       "\n",
       "    .dataframe thead th {\n",
       "        text-align: right;\n",
       "    }\n",
       "</style>\n",
       "<table border=\"1\" class=\"dataframe\">\n",
       "  <thead>\n",
       "    <tr style=\"text-align: right;\">\n",
       "      <th></th>\n",
       "      <th>text</th>\n",
       "    </tr>\n",
       "  </thead>\n",
       "  <tbody>\n",
       "    <tr>\n",
       "      <th>0</th>\n",
       "      <td>The WISE simulations allowed the students to c...</td>\n",
       "    </tr>\n",
       "    <tr>\n",
       "      <th>1</th>\n",
       "      <td>The most effective aspects in wise activity we...</td>\n",
       "    </tr>\n",
       "    <tr>\n",
       "      <th>2</th>\n",
       "      <td>WISE uses predict-observe-explain patterns wit...</td>\n",
       "    </tr>\n",
       "  </tbody>\n",
       "</table>\n",
       "</div>"
      ],
      "text/plain": [
       "                                                text\n",
       "0  The WISE simulations allowed the students to c...\n",
       "1  The most effective aspects in wise activity we...\n",
       "2  WISE uses predict-observe-explain patterns wit..."
      ]
     },
     "execution_count": 9,
     "metadata": {},
     "output_type": "execute_result"
    }
   ],
   "source": [
    "dataframe = pd.read_csv(PATH_TO_DATA)\n",
    "dataframe.head(3)"
   ]
  },
  {
   "cell_type": "code",
   "execution_count": 13,
   "metadata": {
    "collapsed": true
   },
   "outputs": [],
   "source": [
    "def hub_sentence_embeddings(df, textfield):\n",
    "    sentences = [x for x in df[textfield]]\n",
    "    with tf.Graph().as_default():\n",
    "        embed = hub.Module(\"https://tfhub.dev/google/nnlm-en-dim128-with-normalization/1\")\n",
    "        embeddings = embed(sentences)\n",
    "        with tf.Session() as sess:\n",
    "            sess.run(tf.global_variables_initializer())\n",
    "            sess.run(tf.tables_initializer())\n",
    "\n",
    "            return sess.run(embeddings)"
   ]
  },
  {
   "cell_type": "code",
   "execution_count": 14,
   "metadata": {
    "collapsed": false
   },
   "outputs": [
    {
     "name": "stdout",
     "output_type": "stream",
     "text": [
      "INFO:tensorflow:Using /var/folders/6l/0zt406zd3v1c3jv20lqlkpmc0000gn/T/tfhub_modules to cache modules.\n",
      "INFO:tensorflow:Downloading TF-Hub Module 'https://tfhub.dev/google/nnlm-en-dim128-with-normalization/1'.\n",
      "INFO:tensorflow:Downloaded TF-Hub Module 'https://tfhub.dev/google/nnlm-en-dim128-with-normalization/1'.\n",
      "INFO:tensorflow:Initialize variable module/embeddings/part_0:0 from checkpoint b'/var/folders/6l/0zt406zd3v1c3jv20lqlkpmc0000gn/T/tfhub_modules/2cdbcae1a547f4fb93475d4b7d4140f8590995b7/variables/variables' with embeddings\n"
     ]
    }
   ],
   "source": [
    "embedded = hub_sentence_embeddings(dataframe, 'text')\n",
    "english_sim_scores_by_tensorhub = cosine_similarity(embedded)"
   ]
  },
  {
   "cell_type": "code",
   "execution_count": 15,
   "metadata": {
    "collapsed": false
   },
   "outputs": [
    {
     "data": {
      "text/plain": [
       "array([[1.0000001 , 0.81933194, 0.5520406 , ..., 0.77504694, 0.5155209 ,\n",
       "        0.709763  ],\n",
       "       [0.81933194, 1.0000005 , 0.6146651 , ..., 0.77923286, 0.58373034,\n",
       "        0.7202263 ],\n",
       "       [0.5520406 , 0.6146651 , 0.99999994, ..., 0.5152695 , 0.43203086,\n",
       "        0.6238394 ],\n",
       "       ...,\n",
       "       [0.77504694, 0.77923286, 0.5152695 , ..., 1.0000001 , 0.5007949 ,\n",
       "        0.61645794],\n",
       "       [0.5155209 , 0.58373034, 0.43203086, ..., 0.5007949 , 1.0000002 ,\n",
       "        0.3841299 ],\n",
       "       [0.709763  , 0.7202263 , 0.6238394 , ..., 0.61645794, 0.3841299 ,\n",
       "        1.        ]], dtype=float32)"
      ]
     },
     "execution_count": 15,
     "metadata": {},
     "output_type": "execute_result"
    }
   ],
   "source": [
    "english_sim_scores_by_tensorhub"
   ]
  },
  {
   "cell_type": "code",
   "execution_count": null,
   "metadata": {
    "collapsed": true
   },
   "outputs": [],
   "source": []
  }
 ],
 "metadata": {
  "kernelspec": {
   "display_name": "Python 3",
   "language": "python",
   "name": "python3"
  },
  "language_info": {
   "codemirror_mode": {
    "name": "ipython",
    "version": 3
   },
   "file_extension": ".py",
   "mimetype": "text/x-python",
   "name": "python",
   "nbconvert_exporter": "python",
   "pygments_lexer": "ipython3",
   "version": "3.6.0"
  }
 },
 "nbformat": 4,
 "nbformat_minor": 2
}
